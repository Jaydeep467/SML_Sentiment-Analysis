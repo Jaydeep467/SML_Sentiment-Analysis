{
 "cells": [
  {
   "cell_type": "markdown",
   "id": "27adf557-355e-4c73-b184-3517519f3c27",
   "metadata": {},
   "source": [
    "# IMPORTING NECESSARY LIBRARIES"
   ]
  },
  {
   "cell_type": "code",
   "execution_count": 1,
   "id": "5bfeb74f",
   "metadata": {},
   "outputs": [
    {
     "name": "stdout",
     "output_type": "stream",
     "text": [
      "Requirement already satisfied: tweet-preprocessor in c:\\users\\patil\\anaconda3\\lib\\site-packages (0.6.0)\n"
     ]
    },
    {
     "name": "stderr",
     "output_type": "stream",
     "text": [
      "\n",
      "[notice] A new release of pip is available: 23.3.1 -> 24.0\n",
      "[notice] To update, run: python.exe -m pip install --upgrade pip\n"
     ]
    }
   ],
   "source": [
    "!pip install tweet-preprocessor"
   ]
  },
  {
   "cell_type": "code",
   "execution_count": 2,
   "id": "9091d63c-f0d3-47a1-b0ea-d8876213c13c",
   "metadata": {},
   "outputs": [
    {
     "name": "stderr",
     "output_type": "stream",
     "text": [
      "[nltk_data] Downloading package punkt to\n",
      "[nltk_data]     C:\\Users\\patil\\AppData\\Roaming\\nltk_data...\n",
      "[nltk_data]   Package punkt is already up-to-date!\n",
      "[nltk_data] Downloading package stopwords to\n",
      "[nltk_data]     C:\\Users\\patil\\AppData\\Roaming\\nltk_data...\n",
      "[nltk_data]   Package stopwords is already up-to-date!\n"
     ]
    },
    {
     "data": {
      "text/plain": [
       "True"
      ]
     },
     "execution_count": 2,
     "metadata": {},
     "output_type": "execute_result"
    }
   ],
   "source": [
    "import nltk\n",
    "nltk.download('punkt')\n",
    "nltk.download('stopwords')\n"
   ]
  },
  {
   "cell_type": "code",
   "execution_count": 3,
   "id": "d0a50dbd-233c-4056-bc20-a2aa8e420ef2",
   "metadata": {},
   "outputs": [],
   "source": [
    "import pandas as pd\n",
    "import string\n",
    "from nltk.tokenize import word_tokenize\n",
    "from nltk.corpus import stopwords\n",
    "from nltk.stem import PorterStemmer\n",
    "# Feature Scaling\n",
    "from sklearn.preprocessing import StandardScaler\n",
    "\n",
    "sc = StandardScaler()\n",
    "\n",
    "# Load dataset\n",
    "df = pd.read_csv('text.csv')\n",
    "#df = df.sample(frac=0.5)\n"
   ]
  },
  {
   "cell_type": "code",
   "execution_count": 4,
   "id": "12ef3bc6-0af5-497b-91b9-8c044905580c",
   "metadata": {},
   "outputs": [
    {
     "data": {
      "text/html": [
       "<div>\n",
       "<style scoped>\n",
       "    .dataframe tbody tr th:only-of-type {\n",
       "        vertical-align: middle;\n",
       "    }\n",
       "\n",
       "    .dataframe tbody tr th {\n",
       "        vertical-align: top;\n",
       "    }\n",
       "\n",
       "    .dataframe thead th {\n",
       "        text-align: right;\n",
       "    }\n",
       "</style>\n",
       "<table border=\"1\" class=\"dataframe\">\n",
       "  <thead>\n",
       "    <tr style=\"text-align: right;\">\n",
       "      <th></th>\n",
       "      <th>Unnamed: 0</th>\n",
       "      <th>text</th>\n",
       "      <th>label</th>\n",
       "    </tr>\n",
       "  </thead>\n",
       "  <tbody>\n",
       "    <tr>\n",
       "      <th>416799</th>\n",
       "      <td>416799</td>\n",
       "      <td>i feel that i must confess even though it kill...</td>\n",
       "      <td>5</td>\n",
       "    </tr>\n",
       "    <tr>\n",
       "      <th>416800</th>\n",
       "      <td>416800</td>\n",
       "      <td>i don t know why today i feel like it looks ve...</td>\n",
       "      <td>1</td>\n",
       "    </tr>\n",
       "    <tr>\n",
       "      <th>416801</th>\n",
       "      <td>416801</td>\n",
       "      <td>i don t even feel like i fully resolved it but...</td>\n",
       "      <td>1</td>\n",
       "    </tr>\n",
       "    <tr>\n",
       "      <th>416802</th>\n",
       "      <td>416802</td>\n",
       "      <td>i feel like i have been neglecting you my fait...</td>\n",
       "      <td>1</td>\n",
       "    </tr>\n",
       "    <tr>\n",
       "      <th>416803</th>\n",
       "      <td>416803</td>\n",
       "      <td>i cry and feel a sense of loss when my patient...</td>\n",
       "      <td>1</td>\n",
       "    </tr>\n",
       "    <tr>\n",
       "      <th>416804</th>\n",
       "      <td>416804</td>\n",
       "      <td>i feel like telling these horny devils to find...</td>\n",
       "      <td>2</td>\n",
       "    </tr>\n",
       "    <tr>\n",
       "      <th>416805</th>\n",
       "      <td>416805</td>\n",
       "      <td>i began to realize that when i was feeling agi...</td>\n",
       "      <td>3</td>\n",
       "    </tr>\n",
       "    <tr>\n",
       "      <th>416806</th>\n",
       "      <td>416806</td>\n",
       "      <td>i feel very curious be why previous early dawn...</td>\n",
       "      <td>5</td>\n",
       "    </tr>\n",
       "    <tr>\n",
       "      <th>416807</th>\n",
       "      <td>416807</td>\n",
       "      <td>i feel that becuase of the tyranical nature of...</td>\n",
       "      <td>3</td>\n",
       "    </tr>\n",
       "    <tr>\n",
       "      <th>416808</th>\n",
       "      <td>416808</td>\n",
       "      <td>i think that after i had spent some time inves...</td>\n",
       "      <td>5</td>\n",
       "    </tr>\n",
       "  </tbody>\n",
       "</table>\n",
       "</div>"
      ],
      "text/plain": [
       "        Unnamed: 0                                               text  label\n",
       "416799      416799  i feel that i must confess even though it kill...      5\n",
       "416800      416800  i don t know why today i feel like it looks ve...      1\n",
       "416801      416801  i don t even feel like i fully resolved it but...      1\n",
       "416802      416802  i feel like i have been neglecting you my fait...      1\n",
       "416803      416803  i cry and feel a sense of loss when my patient...      1\n",
       "416804      416804  i feel like telling these horny devils to find...      2\n",
       "416805      416805  i began to realize that when i was feeling agi...      3\n",
       "416806      416806  i feel very curious be why previous early dawn...      5\n",
       "416807      416807  i feel that becuase of the tyranical nature of...      3\n",
       "416808      416808  i think that after i had spent some time inves...      5"
      ]
     },
     "execution_count": 4,
     "metadata": {},
     "output_type": "execute_result"
    }
   ],
   "source": [
    "df.tail(10)"
   ]
  },
  {
   "cell_type": "markdown",
   "id": "f5fc97be-107c-4eb7-b355-2c0989daf0c9",
   "metadata": {},
   "source": [
    "# DATA PREPROCESSING"
   ]
  },
  {
   "cell_type": "code",
   "execution_count": 5,
   "id": "4d61f62c",
   "metadata": {},
   "outputs": [],
   "source": [
    "import preprocessor as p"
   ]
  },
  {
   "cell_type": "code",
   "execution_count": 6,
   "id": "ed71d591",
   "metadata": {},
   "outputs": [],
   "source": [
    "# remove special characters using the regular expression library\n",
    "import re\n",
    "\n",
    "#set up punctuations we want to be replaced\n",
    "REPLACE_NO_SPACE = re.compile(\"(\\.)|(\\;)|(\\:)|(\\!)|(\\')|(\\?)|(\\,)|(\\\")|(\\|)|(\\()|(\\))|(\\[)|(\\])|(\\%)|(\\$)|(\\>)|(\\<)|(\\{)|(\\})\")\n",
    "REPLACE_WITH_SPACE = re.compile(\"(<br\\s/><br\\s/?)|(-)|(/)|(:).\")"
   ]
  },
  {
   "cell_type": "code",
   "execution_count": null,
   "id": "360d5d0e",
   "metadata": {},
   "outputs": [],
   "source": []
  },
  {
   "cell_type": "code",
   "execution_count": 7,
   "id": "30568261",
   "metadata": {},
   "outputs": [],
   "source": [
    "def preprocessing(a):\n",
    "    tmp = []\n",
    "    for line in a:\n",
    "        tmp1 = p.clean(line)\n",
    "        tmp1 = REPLACE_NO_SPACE.sub(\"\", tmp1.lower()) # convert all tweets to lower cases\n",
    "        tmp1 = REPLACE_WITH_SPACE.sub(\" \", tmp1)\n",
    "        tmp.append(tmp1)\n",
    "    return tmp"
   ]
  },
  {
   "cell_type": "code",
   "execution_count": 8,
   "id": "84b07684",
   "metadata": {},
   "outputs": [],
   "source": [
    "train_data = preprocessing(df[\"text\"])\n",
    "train_data = pd.DataFrame(train_data)"
   ]
  },
  {
   "cell_type": "code",
   "execution_count": 9,
   "id": "97dfdf06",
   "metadata": {},
   "outputs": [
    {
     "data": {
      "text/html": [
       "<div>\n",
       "<style scoped>\n",
       "    .dataframe tbody tr th:only-of-type {\n",
       "        vertical-align: middle;\n",
       "    }\n",
       "\n",
       "    .dataframe tbody tr th {\n",
       "        vertical-align: top;\n",
       "    }\n",
       "\n",
       "    .dataframe thead th {\n",
       "        text-align: right;\n",
       "    }\n",
       "</style>\n",
       "<table border=\"1\" class=\"dataframe\">\n",
       "  <thead>\n",
       "    <tr style=\"text-align: right;\">\n",
       "      <th></th>\n",
       "      <th>Unnamed: 0</th>\n",
       "      <th>text</th>\n",
       "      <th>label</th>\n",
       "      <th>preprocessing</th>\n",
       "    </tr>\n",
       "  </thead>\n",
       "  <tbody>\n",
       "    <tr>\n",
       "      <th>0</th>\n",
       "      <td>0</td>\n",
       "      <td>i just feel really helpless and heavy hearted</td>\n",
       "      <td>4</td>\n",
       "      <td>i just feel really helpless and heavy hearted</td>\n",
       "    </tr>\n",
       "    <tr>\n",
       "      <th>1</th>\n",
       "      <td>1</td>\n",
       "      <td>ive enjoyed being able to slouch about relax a...</td>\n",
       "      <td>0</td>\n",
       "      <td>ive enjoyed being able to slouch about relax a...</td>\n",
       "    </tr>\n",
       "    <tr>\n",
       "      <th>2</th>\n",
       "      <td>2</td>\n",
       "      <td>i gave up my internship with the dmrg and am f...</td>\n",
       "      <td>4</td>\n",
       "      <td>i gave up my internship with the dmrg and am f...</td>\n",
       "    </tr>\n",
       "    <tr>\n",
       "      <th>3</th>\n",
       "      <td>3</td>\n",
       "      <td>i dont know i feel so lost</td>\n",
       "      <td>0</td>\n",
       "      <td>i dont know i feel so lost</td>\n",
       "    </tr>\n",
       "    <tr>\n",
       "      <th>4</th>\n",
       "      <td>4</td>\n",
       "      <td>i am a kindergarten teacher and i am thoroughl...</td>\n",
       "      <td>4</td>\n",
       "      <td>i am a kindergarten teacher and i am thoroughl...</td>\n",
       "    </tr>\n",
       "    <tr>\n",
       "      <th>5</th>\n",
       "      <td>5</td>\n",
       "      <td>i was beginning to feel quite disheartened</td>\n",
       "      <td>0</td>\n",
       "      <td>i was beginning to feel quite disheartened</td>\n",
       "    </tr>\n",
       "    <tr>\n",
       "      <th>6</th>\n",
       "      <td>6</td>\n",
       "      <td>i would think that whomever would be lucky eno...</td>\n",
       "      <td>2</td>\n",
       "      <td>i would think that whomever would be lucky eno...</td>\n",
       "    </tr>\n",
       "    <tr>\n",
       "      <th>7</th>\n",
       "      <td>7</td>\n",
       "      <td>i fear that they won t ever feel that deliciou...</td>\n",
       "      <td>1</td>\n",
       "      <td>i fear that they won t ever feel that deliciou...</td>\n",
       "    </tr>\n",
       "    <tr>\n",
       "      <th>8</th>\n",
       "      <td>8</td>\n",
       "      <td>im forever taking some time out to have a lie ...</td>\n",
       "      <td>5</td>\n",
       "      <td>im forever taking some time out to have a lie ...</td>\n",
       "    </tr>\n",
       "    <tr>\n",
       "      <th>9</th>\n",
       "      <td>9</td>\n",
       "      <td>i can still lose the weight without feeling de...</td>\n",
       "      <td>0</td>\n",
       "      <td>i can still lose the weight without feeling de...</td>\n",
       "    </tr>\n",
       "  </tbody>\n",
       "</table>\n",
       "</div>"
      ],
      "text/plain": [
       "   Unnamed: 0                                               text  label  \\\n",
       "0           0      i just feel really helpless and heavy hearted      4   \n",
       "1           1  ive enjoyed being able to slouch about relax a...      0   \n",
       "2           2  i gave up my internship with the dmrg and am f...      4   \n",
       "3           3                         i dont know i feel so lost      0   \n",
       "4           4  i am a kindergarten teacher and i am thoroughl...      4   \n",
       "5           5         i was beginning to feel quite disheartened      0   \n",
       "6           6  i would think that whomever would be lucky eno...      2   \n",
       "7           7  i fear that they won t ever feel that deliciou...      1   \n",
       "8           8  im forever taking some time out to have a lie ...      5   \n",
       "9           9  i can still lose the weight without feeling de...      0   \n",
       "\n",
       "                                       preprocessing  \n",
       "0      i just feel really helpless and heavy hearted  \n",
       "1  ive enjoyed being able to slouch about relax a...  \n",
       "2  i gave up my internship with the dmrg and am f...  \n",
       "3                         i dont know i feel so lost  \n",
       "4  i am a kindergarten teacher and i am thoroughl...  \n",
       "5         i was beginning to feel quite disheartened  \n",
       "6  i would think that whomever would be lucky eno...  \n",
       "7  i fear that they won t ever feel that deliciou...  \n",
       "8  im forever taking some time out to have a lie ...  \n",
       "9  i can still lose the weight without feeling de...  "
      ]
     },
     "execution_count": 9,
     "metadata": {},
     "output_type": "execute_result"
    }
   ],
   "source": [
    "df[\"preprocessing\"] = train_data\n",
    "\n",
    "#compare normal and preprocessed data\n",
    "df.head(10)"
   ]
  },
  {
   "cell_type": "code",
   "execution_count": 10,
   "id": "efcf55ad-fc26-44bf-bce5-5107de412f77",
   "metadata": {},
   "outputs": [
    {
     "data": {
      "text/plain": [
       "\"# Lowercasing\\ndf['text'] = df['text'].str.lower()\\n\\n# Tokenization\\ndf['tokens'] = df['text'].apply(word_tokenize)\\n\\n# Removing Punctuation\\ndf['tokens'] = df['tokens'].apply(lambda tokens: [word for word in tokens if word not in string.punctuation])\\n\\n# Removing Stopwords\\nstop_words = set(stopwords.words('english'))\\ndf['tokens'] = df['tokens'].apply(lambda tokens: [word for word in tokens if word not in stop_words])\\n\\n# Stemming\\nstemmer = PorterStemmer()\\ndf['tokens'] = df['tokens'].apply(lambda tokens: [stemmer.stem(word) for word in tokens])\\n\\n# Join tokens back into sentences\\ndf['processed_text'] = df['tokens'].apply(' '.join)\\n\\n# Print the first few rows to check the result\\nprint(df.head(20))\""
      ]
     },
     "execution_count": 10,
     "metadata": {},
     "output_type": "execute_result"
    }
   ],
   "source": [
    "'''# Lowercasing\n",
    "df['text'] = df['text'].str.lower()\n",
    "\n",
    "# Tokenization\n",
    "df['tokens'] = df['text'].apply(word_tokenize)\n",
    "\n",
    "# Removing Punctuation\n",
    "df['tokens'] = df['tokens'].apply(lambda tokens: [word for word in tokens if word not in string.punctuation])\n",
    "\n",
    "# Removing Stopwords\n",
    "stop_words = set(stopwords.words('english'))\n",
    "df['tokens'] = df['tokens'].apply(lambda tokens: [word for word in tokens if word not in stop_words])\n",
    "\n",
    "# Stemming\n",
    "stemmer = PorterStemmer()\n",
    "df['tokens'] = df['tokens'].apply(lambda tokens: [stemmer.stem(word) for word in tokens])\n",
    "\n",
    "# Join tokens back into sentences\n",
    "df['processed_text'] = df['tokens'].apply(' '.join)\n",
    "\n",
    "# Print the first few rows to check the result\n",
    "print(df.head(20))'''\n",
    "\n"
   ]
  },
  {
   "cell_type": "code",
   "execution_count": 11,
   "id": "55748e8f-1030-4771-b5b0-624b4fe06dd5",
   "metadata": {},
   "outputs": [
    {
     "name": "stdout",
     "output_type": "stream",
     "text": [
      "        Unnamed: 0                                               text  label  \\\n",
      "416804      416804  i feel like telling these horny devils to find...      2   \n",
      "416805      416805  i began to realize that when i was feeling agi...      3   \n",
      "416806      416806  i feel very curious be why previous early dawn...      5   \n",
      "416807      416807  i feel that becuase of the tyranical nature of...      3   \n",
      "416808      416808  i think that after i had spent some time inves...      5   \n",
      "\n",
      "                                            preprocessing  \n",
      "416804  i feel like telling these horny devils to find...  \n",
      "416805  i began to realize that when i was feeling agi...  \n",
      "416806  i feel very curious be why previous early dawn...  \n",
      "416807  i feel that becuase of the tyranical nature of...  \n",
      "416808  i think that after i had spent some time inves...  \n"
     ]
    }
   ],
   "source": [
    "print(df.tail(5))"
   ]
  },
  {
   "cell_type": "code",
   "execution_count": 12,
   "id": "b0eba794-785a-4f50-9fa3-9135249f7f18",
   "metadata": {},
   "outputs": [
    {
     "name": "stdout",
     "output_type": "stream",
     "text": [
      "   Unnamed: 0                                               text  label  \\\n",
      "0           0      i just feel really helpless and heavy hearted      4   \n",
      "1           1  ive enjoyed being able to slouch about relax a...      0   \n",
      "2           2  i gave up my internship with the dmrg and am f...      4   \n",
      "3           3                         i dont know i feel so lost      0   \n",
      "4           4  i am a kindergarten teacher and i am thoroughl...      4   \n",
      "\n",
      "                                       preprocessing  sentiment  \n",
      "0      i just feel really helpless and heavy hearted          2  \n",
      "1  ive enjoyed being able to slouch about relax a...          0  \n",
      "2  i gave up my internship with the dmrg and am f...          2  \n",
      "3                         i dont know i feel so lost          0  \n",
      "4  i am a kindergarten teacher and i am thoroughl...          2  \n"
     ]
    }
   ],
   "source": [
    "# Define the mapping between emotion labels and sentiment labels\n",
    "emotion_to_sentiment = {\n",
    "    0: 0,  # sadness\n",
    "    1: 1,  # joy\n",
    "    2: 1,  # love\n",
    "    3: 0,  # anger\n",
    "    4: 2,   # fear\n",
    "    5: 2    # surprise\n",
    "}\n",
    "\n",
    "# Map emotion labels to sentiment labels and create a new column 'sentiment'\n",
    "df['sentiment'] = df['label'].map(emotion_to_sentiment)\n",
    "\n",
    "# Print the first few rows to check the result\n",
    "print(df.head())\n"
   ]
  },
  {
   "cell_type": "code",
   "execution_count": 13,
   "id": "01c987b1-90e4-455d-b025-26b9416b5d5d",
   "metadata": {},
   "outputs": [
    {
     "name": "stdout",
     "output_type": "stream",
     "text": [
      "    Unnamed: 0                                               text  label  \\\n",
      "0            0      i just feel really helpless and heavy hearted      4   \n",
      "1            1  ive enjoyed being able to slouch about relax a...      0   \n",
      "2            2  i gave up my internship with the dmrg and am f...      4   \n",
      "3            3                         i dont know i feel so lost      0   \n",
      "4            4  i am a kindergarten teacher and i am thoroughl...      4   \n",
      "5            5         i was beginning to feel quite disheartened      0   \n",
      "6            6  i would think that whomever would be lucky eno...      2   \n",
      "7            7  i fear that they won t ever feel that deliciou...      1   \n",
      "8            8  im forever taking some time out to have a lie ...      5   \n",
      "9            9  i can still lose the weight without feeling de...      0   \n",
      "10          10  i try to be nice though so if you get a bitchy...      1   \n",
      "11          11  im feeling a little like a damaged tree and th...      0   \n",
      "12          12  i have officially graduated im not feeling as ...      1   \n",
      "13          13  i feel like a jerk because the library student...      3   \n",
      "14          14  i feel my portfolio demonstrates how eager i a...      1   \n",
      "15          15  i may be more biased than the next because i h...      1   \n",
      "16          16                             i didn t feel terrific      1   \n",
      "17          17  i miss all the others as well that feel that i...      3   \n",
      "18          18         i feel so stupid that i realise it so late      0   \n",
      "19          19  i saunter through the airport terminals feelin...      3   \n",
      "20          20  i need to feel dangerous and pretty so here a ...      3   \n",
      "21          21  i am feeling much stronger and more confident ...      1   \n",
      "22          22  i take a shower i feel wonderful energetic and...      1   \n",
      "23          23  i don t feel submissive and for the time being...      0   \n",
      "24          24  i would imagine this is just one of the reason...      0   \n",
      "25          25  i feel like a real fan not that i was ever a f...      0   \n",
      "26          26  i feel like i am actually getting something us...      1   \n",
      "27          27  i was able to overcome this anxiousness and fe...      1   \n",
      "28          28                                               when      3   \n",
      "29          29  i have been successful in providing some peace...      1   \n",
      "30          30  i guess that feeling is what im really getting...      2   \n",
      "31          31  i needed to show me that i really am integrati...      0   \n",
      "32          32  i feel disheartened to message him and yet doe...      0   \n",
      "33          33  i feel assured that i m doing so much right an...      1   \n",
      "34          34  i was less intelligent and could not really fe...      2   \n",
      "35          35  i found jason s observation very helpful in re...      0   \n",
      "36          36  i admit some of my inspiration to go this dire...      0   \n",
      "37          37  i have found myself feeling hopeless about the...      0   \n",
      "38          38  i kinda have a feeling that something will com...      0   \n",
      "39          39         this emotion has never been an intense one      3   \n",
      "40          40  i dunno i just feel scared to walk in after aw...      4   \n",
      "41          41  i feel about my holiday break from work pageti...      1   \n",
      "42          42  i think a guy can make up for lacking funds in...      2   \n",
      "43          43                             i began to feel doomed      0   \n",
      "44          44        i feel my life is totally in ecstatic chaos      1   \n",
      "45          45  i feel i am being neglectful to a lot of you b...      0   \n",
      "46          46  i havent done my eye make up i hate anyone see...      0   \n",
      "47          47  i feel a bit intimidated and out of my league ...      4   \n",
      "48          48  i remember feeling after the third bong hit th...      4   \n",
      "49          49  i feel anger when i see a parent beating and p...      3   \n",
      "\n",
      "                                        preprocessing  sentiment  \n",
      "0       i just feel really helpless and heavy hearted          2  \n",
      "1   ive enjoyed being able to slouch about relax a...          0  \n",
      "2   i gave up my internship with the dmrg and am f...          2  \n",
      "3                          i dont know i feel so lost          0  \n",
      "4   i am a kindergarten teacher and i am thoroughl...          2  \n",
      "5          i was beginning to feel quite disheartened          0  \n",
      "6   i would think that whomever would be lucky eno...          1  \n",
      "7   i fear that they won t ever feel that deliciou...          1  \n",
      "8   im forever taking some time out to have a lie ...          2  \n",
      "9   i can still lose the weight without feeling de...          0  \n",
      "10  i try to be nice though so if you get a bitchy...          1  \n",
      "11  im feeling a little like a damaged tree and th...          0  \n",
      "12  i have officially graduated im not feeling as ...          1  \n",
      "13  i feel like a jerk because the library student...          0  \n",
      "14  i feel my portfolio demonstrates how eager i a...          1  \n",
      "15  i may be more biased than the next because i h...          1  \n",
      "16                             i didn t feel terrific          1  \n",
      "17  i miss all the others as well that feel that i...          0  \n",
      "18         i feel so stupid that i realise it so late          0  \n",
      "19  i saunter through the airport terminals feelin...          0  \n",
      "20  i need to feel dangerous and pretty so here a ...          0  \n",
      "21  i am feeling much stronger and more confident ...          1  \n",
      "22  i take a shower i feel wonderful energetic and...          1  \n",
      "23  i don t feel submissive and for the time being...          0  \n",
      "24  i would imagine this is just one of the reason...          0  \n",
      "25  i feel like a real fan not that i was ever a f...          0  \n",
      "26  i feel like i am actually getting something us...          1  \n",
      "27  i was able to overcome this anxiousness and fe...          1  \n",
      "28                                               when          0  \n",
      "29  i have been successful in providing some peace...          1  \n",
      "30  i guess that feeling is what im really getting...          1  \n",
      "31  i needed to show me that i really am integrati...          0  \n",
      "32  i feel disheartened to message him and yet doe...          0  \n",
      "33  i feel assured that i m doing so much right an...          1  \n",
      "34  i was less intelligent and could not really fe...          1  \n",
      "35  i found jason s observation very helpful in re...          0  \n",
      "36  i admit some of my inspiration to go this dire...          0  \n",
      "37  i have found myself feeling hopeless about the...          0  \n",
      "38  i kinda have a feeling that something will com...          0  \n",
      "39         this emotion has never been an intense one          0  \n",
      "40  i dunno i just feel scared to walk in after aw...          2  \n",
      "41  i feel about my holiday break from work pageti...          1  \n",
      "42  i think a guy can make up for lacking funds in...          1  \n",
      "43                             i began to feel doomed          0  \n",
      "44        i feel my life is totally in ecstatic chaos          1  \n",
      "45  i feel i am being neglectful to a lot of you b...          0  \n",
      "46  i havent done my eye make up i hate anyone see...          0  \n",
      "47  i feel a bit intimidated and out of my league ...          2  \n",
      "48  i remember feeling after the third bong hit th...          2  \n",
      "49  i feel anger when i see a parent beating and p...          0  \n"
     ]
    }
   ],
   "source": [
    "print(df.head(50))"
   ]
  },
  {
   "cell_type": "markdown",
   "id": "e9af22c2-1751-47eb-8760-031a8fe04837",
   "metadata": {},
   "source": [
    "# EDA (EXPLORATORY DATA ANALYSIS)"
   ]
  },
  {
   "cell_type": "code",
   "execution_count": 14,
   "id": "390c6f61-332b-4b14-a551-804f1c2f6744",
   "metadata": {},
   "outputs": [
    {
     "data": {
      "image/png": "[encoded data removed]",
      "text/plain": [
       "<Figure size 640x480 with 1 Axes>"
      ]
     },
     "metadata": {},
     "output_type": "display_data"
    },
    {
     "data": {
      "image/png": "[encoded data removed]",
      "text/plain": [
       "<Figure size 640x480 with 1 Axes>"
      ]
     },
     "metadata": {},
     "output_type": "display_data"
    },
    {
     "data": {
      "text/plain": [
       "\"# Explore word frequency in the dataset\\nfrom collections import Counter\\nwords = [word for sublist in df['preprocessing'] for word in sublist]\\nword_freq = Counter(words)\\ncommon_words = word_freq.most_common(20)\\ncommon_words_df = pd.DataFrame(common_words, columns=['Word', 'Frequency'])\\nplt.figure(figsize=(10, 6))\\nsns.barplot(x='Frequency', y='Word', data=common_words_df)\\nplt.title('Top 20 Most Common Words')\\nplt.xlabel('Frequency')\\nplt.ylabel('Word')\\nplt.show()\""
      ]
     },
     "execution_count": 14,
     "metadata": {},
     "output_type": "execute_result"
    }
   ],
   "source": [
    "import pandas as pd\n",
    "import matplotlib.pyplot as plt\n",
    "import seaborn as sns\n",
    "\n",
    "# Load the preprocessed dataset\n",
    "# Assuming df is your DataFrame containing the preprocessed data\n",
    "# df = pd.read_csv('preprocessed_data.csv')\n",
    "\n",
    "# Explore the distribution of sentiment labels\n",
    "sns.countplot(x='sentiment', data=df)\n",
    "plt.title('Distribution of Sentiment Labels')\n",
    "plt.xlabel('Sentiment')\n",
    "plt.ylabel('Count')\n",
    "plt.show()\n",
    "\n",
    "# Explore the distribution of text lengths\n",
    "df['text_length'] = df['text'].apply(len)\n",
    "plt.hist(df['text_length'], bins=30)\n",
    "plt.title('Distribution of Text Lengths')\n",
    "plt.xlabel('Text Length')\n",
    "plt.ylabel('Count')\n",
    "plt.show()\n",
    "\n",
    "'''# Explore word frequency in the dataset\n",
    "from collections import Counter\n",
    "words = [word for sublist in df['preprocessing'] for word in sublist]\n",
    "word_freq = Counter(words)\n",
    "common_words = word_freq.most_common(20)\n",
    "common_words_df = pd.DataFrame(common_words, columns=['Word', 'Frequency'])\n",
    "plt.figure(figsize=(10, 6))\n",
    "sns.barplot(x='Frequency', y='Word', data=common_words_df)\n",
    "plt.title('Top 20 Most Common Words')\n",
    "plt.xlabel('Frequency')\n",
    "plt.ylabel('Word')\n",
    "plt.show()'''\n"
   ]
  },
  {
   "cell_type": "code",
   "execution_count": 15,
   "id": "94769ae8-2004-42df-96dc-e436b144040d",
   "metadata": {},
   "outputs": [
    {
     "data": {
      "text/html": [
       "<div>\n",
       "<style scoped>\n",
       "    .dataframe tbody tr th:only-of-type {\n",
       "        vertical-align: middle;\n",
       "    }\n",
       "\n",
       "    .dataframe tbody tr th {\n",
       "        vertical-align: top;\n",
       "    }\n",
       "\n",
       "    .dataframe thead th {\n",
       "        text-align: right;\n",
       "    }\n",
       "</style>\n",
       "<table border=\"1\" class=\"dataframe\">\n",
       "  <thead>\n",
       "    <tr style=\"text-align: right;\">\n",
       "      <th></th>\n",
       "      <th>Unnamed: 0</th>\n",
       "      <th>text</th>\n",
       "      <th>label</th>\n",
       "      <th>preprocessing</th>\n",
       "      <th>sentiment</th>\n",
       "      <th>text_length</th>\n",
       "    </tr>\n",
       "  </thead>\n",
       "  <tbody>\n",
       "    <tr>\n",
       "      <th>314870</th>\n",
       "      <td>314870</td>\n",
       "      <td>i have no sex drive no desire to please to sub...</td>\n",
       "      <td>1</td>\n",
       "      <td>i have no sex drive no desire to please to sub...</td>\n",
       "      <td>1</td>\n",
       "      <td>199</td>\n",
       "    </tr>\n",
       "    <tr>\n",
       "      <th>63408</th>\n",
       "      <td>63408</td>\n",
       "      <td>i also express to my brother that if you got i...</td>\n",
       "      <td>3</td>\n",
       "      <td>i also express to my brother that if you got i...</td>\n",
       "      <td>0</td>\n",
       "      <td>112</td>\n",
       "    </tr>\n",
       "    <tr>\n",
       "      <th>188310</th>\n",
       "      <td>188310</td>\n",
       "      <td>i feel that if we were to conclude that then w...</td>\n",
       "      <td>1</td>\n",
       "      <td>i feel that if we were to conclude that then w...</td>\n",
       "      <td>1</td>\n",
       "      <td>117</td>\n",
       "    </tr>\n",
       "    <tr>\n",
       "      <th>202752</th>\n",
       "      <td>202752</td>\n",
       "      <td>i did however get some words down more than iv...</td>\n",
       "      <td>1</td>\n",
       "      <td>i did however get some words down more than iv...</td>\n",
       "      <td>1</td>\n",
       "      <td>108</td>\n",
       "    </tr>\n",
       "    <tr>\n",
       "      <th>182441</th>\n",
       "      <td>182441</td>\n",
       "      <td>i remember that people lost their lives in tho...</td>\n",
       "      <td>3</td>\n",
       "      <td>i remember that people lost their lives in tho...</td>\n",
       "      <td>0</td>\n",
       "      <td>127</td>\n",
       "    </tr>\n",
       "    <tr>\n",
       "      <th>180016</th>\n",
       "      <td>180016</td>\n",
       "      <td>i feel so lame having a blog</td>\n",
       "      <td>0</td>\n",
       "      <td>i feel so lame having a blog</td>\n",
       "      <td>0</td>\n",
       "      <td>28</td>\n",
       "    </tr>\n",
       "    <tr>\n",
       "      <th>318352</th>\n",
       "      <td>318352</td>\n",
       "      <td>i look at pictures of moments cherished in cel...</td>\n",
       "      <td>0</td>\n",
       "      <td>i look at pictures of moments cherished in cel...</td>\n",
       "      <td>0</td>\n",
       "      <td>148</td>\n",
       "    </tr>\n",
       "    <tr>\n",
       "      <th>68868</th>\n",
       "      <td>68868</td>\n",
       "      <td>i feel completely stressed while they just cal...</td>\n",
       "      <td>0</td>\n",
       "      <td>i feel completely stressed while they just cal...</td>\n",
       "      <td>0</td>\n",
       "      <td>117</td>\n",
       "    </tr>\n",
       "    <tr>\n",
       "      <th>334010</th>\n",
       "      <td>334010</td>\n",
       "      <td>i feel like voting is a very important thing f...</td>\n",
       "      <td>1</td>\n",
       "      <td>i feel like voting is a very important thing f...</td>\n",
       "      <td>1</td>\n",
       "      <td>79</td>\n",
       "    </tr>\n",
       "    <tr>\n",
       "      <th>336582</th>\n",
       "      <td>336582</td>\n",
       "      <td>ive not been feeling too adventurous as you wi...</td>\n",
       "      <td>1</td>\n",
       "      <td>ive not been feeling too adventurous as you wi...</td>\n",
       "      <td>1</td>\n",
       "      <td>52</td>\n",
       "    </tr>\n",
       "  </tbody>\n",
       "</table>\n",
       "</div>"
      ],
      "text/plain": [
       "        Unnamed: 0                                               text  label  \\\n",
       "314870      314870  i have no sex drive no desire to please to sub...      1   \n",
       "63408        63408  i also express to my brother that if you got i...      3   \n",
       "188310      188310  i feel that if we were to conclude that then w...      1   \n",
       "202752      202752  i did however get some words down more than iv...      1   \n",
       "182441      182441  i remember that people lost their lives in tho...      3   \n",
       "180016      180016                       i feel so lame having a blog      0   \n",
       "318352      318352  i look at pictures of moments cherished in cel...      0   \n",
       "68868        68868  i feel completely stressed while they just cal...      0   \n",
       "334010      334010  i feel like voting is a very important thing f...      1   \n",
       "336582      336582  ive not been feeling too adventurous as you wi...      1   \n",
       "\n",
       "                                            preprocessing  sentiment  \\\n",
       "314870  i have no sex drive no desire to please to sub...          1   \n",
       "63408   i also express to my brother that if you got i...          0   \n",
       "188310  i feel that if we were to conclude that then w...          1   \n",
       "202752  i did however get some words down more than iv...          1   \n",
       "182441  i remember that people lost their lives in tho...          0   \n",
       "180016                       i feel so lame having a blog          0   \n",
       "318352  i look at pictures of moments cherished in cel...          0   \n",
       "68868   i feel completely stressed while they just cal...          0   \n",
       "334010  i feel like voting is a very important thing f...          1   \n",
       "336582  ive not been feeling too adventurous as you wi...          1   \n",
       "\n",
       "        text_length  \n",
       "314870          199  \n",
       "63408           112  \n",
       "188310          117  \n",
       "202752          108  \n",
       "182441          127  \n",
       "180016           28  \n",
       "318352          148  \n",
       "68868           117  \n",
       "334010           79  \n",
       "336582           52  "
      ]
     },
     "execution_count": 15,
     "metadata": {},
     "output_type": "execute_result"
    }
   ],
   "source": [
    "df.sample(10)"
   ]
  },
  {
   "cell_type": "code",
   "execution_count": 16,
   "id": "48b059e2-ea4b-4372-8acc-d613e981179b",
   "metadata": {},
   "outputs": [
    {
     "data": {
      "text/plain": [
       "Index(['Unnamed: 0', 'text', 'label', 'preprocessing', 'sentiment',\n",
       "       'text_length'],\n",
       "      dtype='object')"
      ]
     },
     "execution_count": 16,
     "metadata": {},
     "output_type": "execute_result"
    }
   ],
   "source": [
    "df.columns"
   ]
  },
  {
   "cell_type": "markdown",
   "id": "14490dfb",
   "metadata": {},
   "source": [
    "# Preprocess the Test Set"
   ]
  },
  {
   "cell_type": "code",
   "execution_count": 17,
   "id": "330d4e76",
   "metadata": {},
   "outputs": [],
   "source": [
    "#test_set = pd.read_csv('text_emotion.csv')"
   ]
  },
  {
   "cell_type": "code",
   "execution_count": 18,
   "id": "808009d6-d9f7-4ec9-85ca-3dba0bea8673",
   "metadata": {},
   "outputs": [],
   "source": [
    "#features = df.drop(columns=['text', 'label', 'tokens', 'processed_text'])\n",
    "labels = df['sentiment']\n"
   ]
  },
  {
   "cell_type": "markdown",
   "id": "aa69bcea",
   "metadata": {},
   "source": [
    "# SPLIT THE DATASET"
   ]
  },
  {
   "cell_type": "code",
   "execution_count": 19,
   "id": "2993012f-393e-4284-a918-eebb045cdab0",
   "metadata": {},
   "outputs": [],
   "source": [
    "from sklearn.model_selection import train_test_split\n",
    "\n",
    "\n",
    "\n",
    "# Split the data into training and testing sets\n",
    "X_train, X_test, y_train, y_test = train_test_split(df.preprocessing.values, labels, test_size=0.1, random_state=4, shuffle=True)\n",
    "\n",
    "\n",
    "\n",
    "# Display the shapes of the training and testing sets\n",
    "#X_train.shape # (333447, 1003)\n"
   ]
  },
  {
   "cell_type": "code",
   "execution_count": 20,
   "id": "6c1218c5-32dc-4272-ad43-4ba356a11e1a",
   "metadata": {},
   "outputs": [
    {
     "data": {
      "text/plain": [
       "array(['i wonder if this tweezing is a symptom of some obsessive compulsive issue but i don t want to make my daughter feel insecure by asking her about it',\n",
       "       'id started to feel a bit less stressed out as he led me out of the truck into the daylight',\n",
       "       'i manage to keep my self clinging from this my reality i sometimes i should say lately most of the times i feel exhausted and i think there is absolutely no need for me to stay in here',\n",
       "       ...,\n",
       "       'i have found my faith being tested i have always overcome those times feeling stronger and reassured by my faith but it hasnt been an easy road to get there',\n",
       "       'i never know if i should feel happy or sad about that',\n",
       "       'i really needed the fire re lit and the strength to keep moving forward and i m so grateful to feel that gentle shove forward again'],\n",
       "      dtype=object)"
      ]
     },
     "execution_count": 20,
     "metadata": {},
     "output_type": "execute_result"
    }
   ],
   "source": [
    "X_train"
   ]
  },
  {
   "cell_type": "code",
   "execution_count": 21,
   "id": "e461e25d",
   "metadata": {},
   "outputs": [
    {
     "data": {
      "text/plain": [
       "(375128,)"
      ]
     },
     "execution_count": 21,
     "metadata": {},
     "output_type": "execute_result"
    }
   ],
   "source": [
    "X_train.shape"
   ]
  },
  {
   "cell_type": "code",
   "execution_count": 22,
   "id": "94f3e611-531c-4d3e-bbf2-b54a8cc08f64",
   "metadata": {},
   "outputs": [
    {
     "name": "stdout",
     "output_type": "stream",
     "text": [
      "0    2\n",
      "1    0\n",
      "2    2\n",
      "3    0\n",
      "4    2\n",
      "Name: sentiment, dtype: int64\n",
      "(416809,)\n"
     ]
    }
   ],
   "source": [
    "print(labels.head())\n",
    "print(labels.shape)\n",
    "\n"
   ]
  },
  {
   "cell_type": "code",
   "execution_count": 23,
   "id": "e34611c3-9aac-46fa-a983-bee4ccda59d2",
   "metadata": {},
   "outputs": [
    {
     "data": {
      "text/plain": [
       "'labels_new = labels.iloc[:, 0]\\n\\nprint(labels_new.head())\\nprint(labels_new.shape)'"
      ]
     },
     "execution_count": 23,
     "metadata": {},
     "output_type": "execute_result"
    }
   ],
   "source": [
    "'''labels_new = labels.iloc[:, 0]\n",
    "\n",
    "print(labels_new.head())\n",
    "print(labels_new.shape)'''\n",
    "\n"
   ]
  },
  {
   "cell_type": "code",
   "execution_count": 24,
   "id": "17ac0d29-1f5a-481e-82f3-afa2be993eef",
   "metadata": {},
   "outputs": [
    {
     "name": "stdout",
     "output_type": "stream",
     "text": [
      "(375128,)\n",
      "(41681,)\n",
      "(375128,)\n",
      "(41681,)\n"
     ]
    }
   ],
   "source": [
    "print(X_train.shape)\n",
    "print(X_test.shape)\n",
    "print(y_train.shape)\n",
    "print(y_test.shape)"
   ]
  },
  {
   "cell_type": "code",
   "execution_count": 25,
   "id": "47dcf9b8-9f71-4059-80fa-12e121223fbe",
   "metadata": {},
   "outputs": [
    {
     "name": "stdout",
     "output_type": "stream",
     "text": [
      "['i wonder if this tweezing is a symptom of some obsessive compulsive issue but i don t want to make my daughter feel insecure by asking her about it'\n",
      " 'id started to feel a bit less stressed out as he led me out of the truck into the daylight'\n",
      " 'i manage to keep my self clinging from this my reality i sometimes i should say lately most of the times i feel exhausted and i think there is absolutely no need for me to stay in here'\n",
      " ...\n",
      " 'i have found my faith being tested i have always overcome those times feeling stronger and reassured by my faith but it hasnt been an easy road to get there'\n",
      " 'i never know if i should feel happy or sad about that'\n",
      " 'i really needed the fire re lit and the strength to keep moving forward and i m so grateful to feel that gentle shove forward again']\n",
      "33258     0\n",
      "365800    0\n",
      "309322    1\n",
      "43720     0\n",
      "95056     0\n",
      "         ..\n",
      "317919    0\n",
      "198840    0\n",
      "64174     1\n",
      "83336     0\n",
      "228898    0\n",
      "Name: sentiment, Length: 41681, dtype: int64\n"
     ]
    }
   ],
   "source": [
    "print (X_train)\n",
    "print (y_test)"
   ]
  },
  {
   "cell_type": "markdown",
   "id": "8861c68f-a8d8-4fc7-b5e0-42ae8ce5c435",
   "metadata": {},
   "source": [
    "# APPLYING FEATURE SCALING USING fit_transform() METHOD OF SCALAR OBJECT sc"
   ]
  },
  {
   "cell_type": "code",
   "execution_count": 26,
   "id": "ca4aab3d-15d4-4e11-89c1-0e59a87628a4",
   "metadata": {},
   "outputs": [],
   "source": [
    "#X_train = sc.fit_transform(X_train)\n",
    "#X_test = sc.transform(X_test)"
   ]
  },
  {
   "cell_type": "markdown",
   "id": "b6b6fb50",
   "metadata": {},
   "source": [
    "# VECTORIZATION"
   ]
  },
  {
   "cell_type": "code",
   "execution_count": 27,
   "id": "ecb8994a",
   "metadata": {},
   "outputs": [],
   "source": [
    "from sklearn.feature_extraction.text import CountVectorizer"
   ]
  },
  {
   "cell_type": "code",
   "execution_count": 28,
   "id": "85ca1fe9",
   "metadata": {},
   "outputs": [],
   "source": [
    "# vectorize tweets for model building\n",
    "vectorizer = CountVectorizer(binary=True, stop_words='english')\n",
    "\n",
    "# learn a vocabulary dictionary of all tokens in the raw documents\n",
    "vectorizer.fit(list(X_train) + list(X_test))\n",
    "\n",
    "# transform documents to document-term matrix\n",
    "x_train_vec = vectorizer.fit_transform(X_train)\n",
    "x_test_vec = vectorizer.transform(X_test)"
   ]
  },
  {
   "cell_type": "code",
   "execution_count": 29,
   "id": "32293370",
   "metadata": {},
   "outputs": [
    {
     "data": {
      "text/plain": [
       "(41681, 71345)"
      ]
     },
     "execution_count": 29,
     "metadata": {},
     "output_type": "execute_result"
    }
   ],
   "source": [
    "x_train_vec.shape\n",
    "x_test_vec.shape"
   ]
  },
  {
   "cell_type": "code",
   "execution_count": 30,
   "id": "72acd209",
   "metadata": {},
   "outputs": [
    {
     "name": "stdout",
     "output_type": "stream",
     "text": [
      "  (0, 69955)\t1\n",
      "  (0, 65298)\t1\n",
      "  (0, 61619)\t1\n",
      "  (0, 43524)\t1\n",
      "  (0, 12300)\t1\n",
      "  (0, 32066)\t1\n",
      "  (0, 17612)\t1\n",
      "  (0, 68533)\t1\n",
      "  (0, 37598)\t1\n",
      "  (0, 14897)\t1\n",
      "  (0, 22073)\t1\n",
      "  (0, 31134)\t1\n",
      "  (0, 3530)\t1\n",
      "  (1, 22073)\t1\n",
      "  (1, 29735)\t1\n",
      "  (1, 59543)\t1\n",
      "  (1, 6288)\t1\n",
      "  (1, 60211)\t1\n",
      "  (1, 35479)\t1\n",
      "  (1, 64912)\t1\n",
      "  (1, 14958)\t1\n",
      "  (2, 22073)\t1\n",
      "  (2, 37769)\t1\n",
      "  (2, 55341)\t1\n",
      "  (2, 11317)\t1\n",
      "  :\t:\n",
      "  (375124, 16659)\t1\n",
      "  (375124, 68441)\t1\n",
      "  (375125, 63571)\t1\n",
      "  (375125, 22096)\t1\n",
      "  (375125, 60305)\t1\n",
      "  (375125, 18719)\t1\n",
      "  (375125, 50872)\t1\n",
      "  (375125, 21595)\t1\n",
      "  (375125, 53054)\t1\n",
      "  (375125, 44765)\t1\n",
      "  (375125, 62703)\t1\n",
      "  (375126, 22073)\t1\n",
      "  (375126, 27281)\t1\n",
      "  (375126, 34360)\t1\n",
      "  (375126, 53884)\t1\n",
      "  (375127, 22073)\t1\n",
      "  (375127, 50802)\t1\n",
      "  (375127, 42132)\t1\n",
      "  (375127, 24974)\t1\n",
      "  (375127, 41018)\t1\n",
      "  (375127, 23552)\t1\n",
      "  (375127, 60196)\t1\n",
      "  (375127, 26125)\t1\n",
      "  (375127, 36275)\t1\n",
      "  (375127, 56498)\t1\n"
     ]
    }
   ],
   "source": [
    "print(x_train_vec)"
   ]
  },
  {
   "cell_type": "code",
   "execution_count": 31,
   "id": "610853fc-1d9e-46be-9c29-014b2bd7cb74",
   "metadata": {},
   "outputs": [
    {
     "name": "stdout",
     "output_type": "stream",
     "text": [
      "(375128,)\n",
      "(41681,)\n",
      "(375128,)\n",
      "(41681,)\n"
     ]
    }
   ],
   "source": [
    "print(X_train.shape)\n",
    "print(X_test.shape)\n",
    "print(y_train.shape)\n",
    "print(y_test.shape)"
   ]
  },
  {
   "cell_type": "markdown",
   "id": "3778c1f8-0b43-4dec-b7f5-96baf8d859a6",
   "metadata": {},
   "source": [
    "# TRAINING AND PREDICTION"
   ]
  },
  {
   "cell_type": "code",
   "execution_count": 32,
   "id": "c23b4bce-3e36-4008-9819-b5e0b3acdab0",
   "metadata": {},
   "outputs": [
    {
     "data": {
      "text/html": [
       "<style>#sk-container-id-1 {color: black;}#sk-container-id-1 pre{padding: 0;}#sk-container-id-1 div.sk-toggleable {background-color: white;}#sk-container-id-1 label.sk-toggleable__label {cursor: pointer;display: block;width: 100%;margin-bottom: 0;padding: 0.3em;box-sizing: border-box;text-align: center;}#sk-container-id-1 label.sk-toggleable__label-arrow:before {content: \"▸\";float: left;margin-right: 0.25em;color: #696969;}#sk-container-id-1 label.sk-toggleable__label-arrow:hover:before {color: black;}#sk-container-id-1 div.sk-estimator:hover label.sk-toggleable__label-arrow:before {color: black;}#sk-container-id-1 div.sk-toggleable__content {max-height: 0;max-width: 0;overflow: hidden;text-align: left;background-color: #f0f8ff;}#sk-container-id-1 div.sk-toggleable__content pre {margin: 0.2em;color: black;border-radius: 0.25em;background-color: #f0f8ff;}#sk-container-id-1 input.sk-toggleable__control:checked~div.sk-toggleable__content {max-height: 200px;max-width: 100%;overflow: auto;}#sk-container-id-1 input.sk-toggleable__control:checked~label.sk-toggleable__label-arrow:before {content: \"▾\";}#sk-container-id-1 div.sk-estimator input.sk-toggleable__control:checked~label.sk-toggleable__label {background-color: #d4ebff;}#sk-container-id-1 div.sk-label input.sk-toggleable__control:checked~label.sk-toggleable__label {background-color: #d4ebff;}#sk-container-id-1 input.sk-hidden--visually {border: 0;clip: rect(1px 1px 1px 1px);clip: rect(1px, 1px, 1px, 1px);height: 1px;margin: -1px;overflow: hidden;padding: 0;position: absolute;width: 1px;}#sk-container-id-1 div.sk-estimator {font-family: monospace;background-color: #f0f8ff;border: 1px dotted black;border-radius: 0.25em;box-sizing: border-box;margin-bottom: 0.5em;}#sk-container-id-1 div.sk-estimator:hover {background-color: #d4ebff;}#sk-container-id-1 div.sk-parallel-item::after {content: \"\";width: 100%;border-bottom: 1px solid gray;flex-grow: 1;}#sk-container-id-1 div.sk-label:hover label.sk-toggleable__label {background-color: #d4ebff;}#sk-container-id-1 div.sk-serial::before {content: \"\";position: absolute;border-left: 1px solid gray;box-sizing: border-box;top: 0;bottom: 0;left: 50%;z-index: 0;}#sk-container-id-1 div.sk-serial {display: flex;flex-direction: column;align-items: center;background-color: white;padding-right: 0.2em;padding-left: 0.2em;position: relative;}#sk-container-id-1 div.sk-item {position: relative;z-index: 1;}#sk-container-id-1 div.sk-parallel {display: flex;align-items: stretch;justify-content: center;background-color: white;position: relative;}#sk-container-id-1 div.sk-item::before, #sk-container-id-1 div.sk-parallel-item::before {content: \"\";position: absolute;border-left: 1px solid gray;box-sizing: border-box;top: 0;bottom: 0;left: 50%;z-index: -1;}#sk-container-id-1 div.sk-parallel-item {display: flex;flex-direction: column;z-index: 1;position: relative;background-color: white;}#sk-container-id-1 div.sk-parallel-item:first-child::after {align-self: flex-end;width: 50%;}#sk-container-id-1 div.sk-parallel-item:last-child::after {align-self: flex-start;width: 50%;}#sk-container-id-1 div.sk-parallel-item:only-child::after {width: 0;}#sk-container-id-1 div.sk-dashed-wrapped {border: 1px dashed gray;margin: 0 0.4em 0.5em 0.4em;box-sizing: border-box;padding-bottom: 0.4em;background-color: white;}#sk-container-id-1 div.sk-label label {font-family: monospace;font-weight: bold;display: inline-block;line-height: 1.2em;}#sk-container-id-1 div.sk-label-container {text-align: center;}#sk-container-id-1 div.sk-container {/* jupyter's `normalize.less` sets `[hidden] { display: none; }` but bootstrap.min.css set `[hidden] { display: none !important; }` so we also need the `!important` here to be able to override the default hidden behavior on the sphinx rendered scikit-learn.org. See: https://github.com/scikit-learn/scikit-learn/issues/21755 */display: inline-block !important;position: relative;}#sk-container-id-1 div.sk-text-repr-fallback {display: none;}</style><div id=\"sk-container-id-1\" class=\"sk-top-container\"><div class=\"sk-text-repr-fallback\"><pre>SVC(C=2, gamma=&#x27;auto&#x27;, kernel=&#x27;linear&#x27;)</pre><b>In a Jupyter environment, please rerun this cell to show the HTML representation or trust the notebook. <br />On GitHub, the HTML representation is unable to render, please try loading this page with nbviewer.org.</b></div><div class=\"sk-container\" hidden><div class=\"sk-item\"><div class=\"sk-estimator sk-toggleable\"><input class=\"sk-toggleable__control sk-hidden--visually\" id=\"sk-estimator-id-1\" type=\"checkbox\" checked><label for=\"sk-estimator-id-1\" class=\"sk-toggleable__label sk-toggleable__label-arrow\">SVC</label><div class=\"sk-toggleable__content\"><pre>SVC(C=2, gamma=&#x27;auto&#x27;, kernel=&#x27;linear&#x27;)</pre></div></div></div></div></div>"
      ],
      "text/plain": [
       "SVC(C=2, gamma='auto', kernel='linear')"
      ]
     },
     "execution_count": 32,
     "metadata": {},
     "output_type": "execute_result"
    }
   ],
   "source": [
    "from sklearn import svm\n",
    "\n",
    "classifier = svm.SVC(kernel='linear', gamma='auto', C=2)\n",
    "classifier.fit(x_train_vec, y_train)\n",
    "\n"
   ]
  },
  {
   "cell_type": "code",
   "execution_count": 33,
   "id": "11dc8ea6-68af-4709-9fd1-d61a8e9ab024",
   "metadata": {},
   "outputs": [],
   "source": [
    "prediction = classifier.predict(x_test_vec)"
   ]
  },
  {
   "cell_type": "code",
   "execution_count": 34,
   "id": "fce3bf9e-1e2b-455f-8406-0be2c63ec480",
   "metadata": {
    "scrolled": true
   },
   "outputs": [
    {
     "name": "stdout",
     "output_type": "stream",
     "text": [
      "              precision    recall  f1-score   support\n",
      "\n",
      "           0       0.95      0.95      0.95     17775\n",
      "           1       0.96      0.97      0.96     17553\n",
      "           2       0.89      0.89      0.89      6353\n",
      "\n",
      "    accuracy                           0.95     41681\n",
      "   macro avg       0.93      0.93      0.93     41681\n",
      "weighted avg       0.95      0.95      0.95     41681\n",
      "\n"
     ]
    }
   ],
   "source": [
    "from sklearn.metrics import classification_report\n",
    "\n",
    "print(classification_report(y_test, prediction))"
   ]
  },
  {
   "cell_type": "markdown",
   "id": "e801edc8-a646-4c0e-a3c9-190ba93638e9",
   "metadata": {},
   "source": [
    "# CROSS VALIDATION USING K FOLDS"
   ]
  },
  {
   "cell_type": "code",
   "execution_count": 35,
   "id": "a0db7ef8-3158-4d01-86f0-266138df9283",
   "metadata": {},
   "outputs": [
    {
     "name": "stdout",
     "output_type": "stream",
     "text": [
      "Cross-Validation Scores: [0.93822718 0.93474088 0.93929942 0.93678023 0.93761996]\n",
      "Mean Accuracy: 0.9373335358162178\n"
     ]
    }
   ],
   "source": [
    "import pandas as pd\n",
    "from sklearn.model_selection import train_test_split, cross_val_score\n",
    "from sklearn.feature_extraction.text import TfidfVectorizer\n",
    "from sklearn.svm import SVC\n",
    "from sklearn.metrics import accuracy_score\n",
    "\n",
    "\n",
    "# Perform cross-validation\n",
    "cv_scores = cross_val_score(classifier, x_test_vec, y_test, cv=5)  # Adjust the number of folds as needed\n",
    "\n",
    "# Print the cross-validation scores\n",
    "print(\"Cross-Validation Scores:\", cv_scores)\n",
    "print(\"Mean Accuracy:\", cv_scores.mean())\n"
   ]
  },
  {
   "cell_type": "code",
   "execution_count": 36,
   "id": "61958125-b78f-4044-9523-ae4de31fece9",
   "metadata": {},
   "outputs": [
    {
     "data": {
      "text/plain": [
       "['Count_vectorizer_2.joblib']"
      ]
     },
     "execution_count": 36,
     "metadata": {},
     "output_type": "execute_result"
    }
   ],
   "source": [
    "from joblib import dump, load\n",
    "\n",
    "# Save the model and count vectorizer\n",
    "dump(classifier, 'SVM_model_2.joblib')\n",
    "dump(vectorizer, 'Count_vectorizer_2.joblib')"
   ]
  },
  {
   "cell_type": "code",
   "execution_count": 37,
   "id": "5748b813-1bf5-467d-87e3-59d833457645",
   "metadata": {},
   "outputs": [],
   "source": [
    "svm_classifier = load('SVM_model_2.joblib')\n",
    "vectorizer = load('Count_vectorizer_2.joblib')"
   ]
  },
  {
   "cell_type": "markdown",
   "id": "668c1784-14fd-4cc6-bcaa-10c4aebc955a",
   "metadata": {},
   "source": [
    "# TESTING"
   ]
  },
  {
   "cell_type": "code",
   "execution_count": 38,
   "id": "17b0c04c-5312-45e5-8cb6-58e868071ba8",
   "metadata": {},
   "outputs": [],
   "source": [
    "test_set = pd.read_csv('test_sample.csv')"
   ]
  },
  {
   "cell_type": "code",
   "execution_count": 39,
   "id": "282954e5-e4b6-4aa5-9c16-7dafb71d52b7",
   "metadata": {},
   "outputs": [
    {
     "data": {
      "text/html": [
       "<div>\n",
       "<style scoped>\n",
       "    .dataframe tbody tr th:only-of-type {\n",
       "        vertical-align: middle;\n",
       "    }\n",
       "\n",
       "    .dataframe tbody tr th {\n",
       "        vertical-align: top;\n",
       "    }\n",
       "\n",
       "    .dataframe thead th {\n",
       "        text-align: right;\n",
       "    }\n",
       "</style>\n",
       "<table border=\"1\" class=\"dataframe\">\n",
       "  <thead>\n",
       "    <tr style=\"text-align: right;\">\n",
       "      <th></th>\n",
       "      <th>0</th>\n",
       "    </tr>\n",
       "  </thead>\n",
       "  <tbody>\n",
       "    <tr>\n",
       "      <th>0</th>\n",
       "      <td>i really dont wanna stay in my house tonight i...</td>\n",
       "    </tr>\n",
       "    <tr>\n",
       "      <th>1</th>\n",
       "      <td>im scared of snakes</td>\n",
       "    </tr>\n",
       "    <tr>\n",
       "      <th>2</th>\n",
       "      <td>i love you</td>\n",
       "    </tr>\n",
       "    <tr>\n",
       "      <th>3</th>\n",
       "      <td>dont ever do that again</td>\n",
       "    </tr>\n",
       "    <tr>\n",
       "      <th>4</th>\n",
       "      <td>the way to the temple is from that side</td>\n",
       "    </tr>\n",
       "  </tbody>\n",
       "</table>\n",
       "</div>"
      ],
      "text/plain": [
       "                                                   0\n",
       "0  i really dont wanna stay in my house tonight i...\n",
       "1                                im scared of snakes\n",
       "2                                         i love you\n",
       "3                            dont ever do that again\n",
       "4            the way to the temple is from that side"
      ]
     },
     "execution_count": 39,
     "metadata": {},
     "output_type": "execute_result"
    }
   ],
   "source": [
    "new_data = preprocessing(test_set[\"text\"])\n",
    "new_data = pd.DataFrame(new_data)\n",
    "\n",
    "new_data.head()"
   ]
  },
  {
   "cell_type": "code",
   "execution_count": 40,
   "id": "923ec0e4-0035-462d-a105-69cec36d2799",
   "metadata": {},
   "outputs": [
    {
     "data": {
      "text/html": [
       "<div>\n",
       "<style scoped>\n",
       "    .dataframe tbody tr th:only-of-type {\n",
       "        vertical-align: middle;\n",
       "    }\n",
       "\n",
       "    .dataframe tbody tr th {\n",
       "        vertical-align: top;\n",
       "    }\n",
       "\n",
       "    .dataframe thead th {\n",
       "        text-align: right;\n",
       "    }\n",
       "</style>\n",
       "<table border=\"1\" class=\"dataframe\">\n",
       "  <thead>\n",
       "    <tr style=\"text-align: right;\">\n",
       "      <th></th>\n",
       "      <th>Unnamed: 0</th>\n",
       "      <th>text</th>\n",
       "      <th>label</th>\n",
       "      <th>preprocessing</th>\n",
       "    </tr>\n",
       "  </thead>\n",
       "  <tbody>\n",
       "    <tr>\n",
       "      <th>0</th>\n",
       "      <td>0</td>\n",
       "      <td>I really don't wanna stay in my house tonight....</td>\n",
       "      <td>0</td>\n",
       "      <td>i really dont wanna stay in my house tonight i...</td>\n",
       "    </tr>\n",
       "    <tr>\n",
       "      <th>1</th>\n",
       "      <td>1</td>\n",
       "      <td>I'm scared of snakes</td>\n",
       "      <td>1</td>\n",
       "      <td>im scared of snakes</td>\n",
       "    </tr>\n",
       "    <tr>\n",
       "      <th>2</th>\n",
       "      <td>2</td>\n",
       "      <td>I love you</td>\n",
       "      <td>1</td>\n",
       "      <td>i love you</td>\n",
       "    </tr>\n",
       "    <tr>\n",
       "      <th>3</th>\n",
       "      <td>3</td>\n",
       "      <td>Don't ever do that again</td>\n",
       "      <td>0</td>\n",
       "      <td>dont ever do that again</td>\n",
       "    </tr>\n",
       "    <tr>\n",
       "      <th>4</th>\n",
       "      <td>4</td>\n",
       "      <td>The way to the temple is from that side</td>\n",
       "      <td>1</td>\n",
       "      <td>the way to the temple is from that side</td>\n",
       "    </tr>\n",
       "    <tr>\n",
       "      <th>5</th>\n",
       "      <td>5</td>\n",
       "      <td>I'm so disappointed with the customer service ...</td>\n",
       "      <td>0</td>\n",
       "      <td>im so disappointed with the customer service i...</td>\n",
       "    </tr>\n",
       "    <tr>\n",
       "      <th>6</th>\n",
       "      <td>6</td>\n",
       "      <td>Just finished my workout, feeling energized</td>\n",
       "      <td>1</td>\n",
       "      <td>just finished my workout feeling energized</td>\n",
       "    </tr>\n",
       "    <tr>\n",
       "      <th>7</th>\n",
       "      <td>7</td>\n",
       "      <td>Having a lazy day, enjoying some Netflix</td>\n",
       "      <td>1</td>\n",
       "      <td>having a lazy day enjoying some netflix</td>\n",
       "    </tr>\n",
       "    <tr>\n",
       "      <th>8</th>\n",
       "      <td>8</td>\n",
       "      <td>i feel my life is totally in ecstatic chaos</td>\n",
       "      <td>1</td>\n",
       "      <td>i feel my life is totally in ecstatic chaos</td>\n",
       "    </tr>\n",
       "    <tr>\n",
       "      <th>9</th>\n",
       "      <td>9</td>\n",
       "      <td>i feel i am being neglectful to a lot of you b...</td>\n",
       "      <td>0</td>\n",
       "      <td>i feel i am being neglectful to a lot of you b...</td>\n",
       "    </tr>\n",
       "  </tbody>\n",
       "</table>\n",
       "</div>"
      ],
      "text/plain": [
       "   Unnamed: 0                                               text  label  \\\n",
       "0           0  I really don't wanna stay in my house tonight....      0   \n",
       "1           1                               I'm scared of snakes      1   \n",
       "2           2                                         I love you      1   \n",
       "3           3                           Don't ever do that again      0   \n",
       "4           4            The way to the temple is from that side      1   \n",
       "5           5  I'm so disappointed with the customer service ...      0   \n",
       "6           6        Just finished my workout, feeling energized      1   \n",
       "7           7           Having a lazy day, enjoying some Netflix      1   \n",
       "8           8        i feel my life is totally in ecstatic chaos      1   \n",
       "9           9  i feel i am being neglectful to a lot of you b...      0   \n",
       "\n",
       "                                       preprocessing  \n",
       "0  i really dont wanna stay in my house tonight i...  \n",
       "1                                im scared of snakes  \n",
       "2                                         i love you  \n",
       "3                            dont ever do that again  \n",
       "4            the way to the temple is from that side  \n",
       "5  im so disappointed with the customer service i...  \n",
       "6         just finished my workout feeling energized  \n",
       "7            having a lazy day enjoying some netflix  \n",
       "8        i feel my life is totally in ecstatic chaos  \n",
       "9  i feel i am being neglectful to a lot of you b...  "
      ]
     },
     "execution_count": 40,
     "metadata": {},
     "output_type": "execute_result"
    }
   ],
   "source": [
    "test_set[\"preprocessing\"] = new_data\n",
    "\n",
    "#compare normal and preprocessed data\n",
    "test_set.head(10)"
   ]
  },
  {
   "cell_type": "code",
   "execution_count": null,
   "id": "38a738e6-da7e-4301-87ee-b210898204f8",
   "metadata": {},
   "outputs": [],
   "source": []
  },
  {
   "cell_type": "code",
   "execution_count": 41,
   "id": "b4bdcff7-8605-4c90-ab11-55dc608ac72c",
   "metadata": {},
   "outputs": [
    {
     "data": {
      "text/plain": [
       "array([0, 1, 1, ..., 1, 2, 2], dtype=int64)"
      ]
     },
     "execution_count": 41,
     "metadata": {},
     "output_type": "execute_result"
    }
   ],
   "source": [
    "example = test_set.preprocessing.values\n",
    "example\n",
    "ex_output = test_set.label.values\n",
    "ex_output"
   ]
  },
  {
   "cell_type": "code",
   "execution_count": 42,
   "id": "c9e26fed-651a-436e-98b3-9b4f32d59618",
   "metadata": {},
   "outputs": [],
   "source": [
    "example_vector = vectorizer.transform(example)\n"
   ]
  },
  {
   "cell_type": "code",
   "execution_count": 43,
   "id": "23413642-a9a4-4a41-aa04-6c7aecb1a73c",
   "metadata": {},
   "outputs": [],
   "source": [
    "output = classifier.predict(example_vector)"
   ]
  },
  {
   "cell_type": "code",
   "execution_count": 44,
   "id": "a138f6d5-a8ab-4331-851f-b22aa71c481a",
   "metadata": {},
   "outputs": [
    {
     "name": "stdout",
     "output_type": "stream",
     "text": [
      "[0 1 1 ... 1 2 2]\n",
      "[0 2 0 ... 1 2 0]\n"
     ]
    }
   ],
   "source": [
    "print(ex_output)\n",
    "print(output)"
   ]
  },
  {
   "cell_type": "code",
   "execution_count": 45,
   "id": "de218c70-31da-41fa-8dfb-d3e910978268",
   "metadata": {},
   "outputs": [
    {
     "name": "stdout",
     "output_type": "stream",
     "text": [
      "Accuracy: 0.9410294852573713\n"
     ]
    }
   ],
   "source": [
    "my_accuracy = accuracy_score(ex_output, output)\n",
    "print(f'Accuracy: {my_accuracy}')"
   ]
  },
  {
   "cell_type": "code",
   "execution_count": 46,
   "id": "4fec1270-79e6-4e73-afd9-11a0f78c6ac9",
   "metadata": {},
   "outputs": [],
   "source": [
    "testing = pd.read_csv('test.csv')"
   ]
  },
  {
   "cell_type": "code",
   "execution_count": 47,
   "id": "6801c1a0-cf52-499a-83eb-af4e93cbbdbe",
   "metadata": {},
   "outputs": [
    {
     "data": {
      "text/html": [
       "<div>\n",
       "<style scoped>\n",
       "    .dataframe tbody tr th:only-of-type {\n",
       "        vertical-align: middle;\n",
       "    }\n",
       "\n",
       "    .dataframe tbody tr th {\n",
       "        vertical-align: top;\n",
       "    }\n",
       "\n",
       "    .dataframe thead th {\n",
       "        text-align: right;\n",
       "    }\n",
       "</style>\n",
       "<table border=\"1\" class=\"dataframe\">\n",
       "  <thead>\n",
       "    <tr style=\"text-align: right;\">\n",
       "      <th></th>\n",
       "      <th>Unnamed: 0</th>\n",
       "      <th>text</th>\n",
       "      <th>label</th>\n",
       "    </tr>\n",
       "  </thead>\n",
       "  <tbody>\n",
       "    <tr>\n",
       "      <th>0</th>\n",
       "      <td>0</td>\n",
       "      <td>I really don't wanna stay in my house tonight....</td>\n",
       "      <td>0</td>\n",
       "    </tr>\n",
       "    <tr>\n",
       "      <th>1</th>\n",
       "      <td>1</td>\n",
       "      <td>I'm scared of snakes</td>\n",
       "      <td>1</td>\n",
       "    </tr>\n",
       "    <tr>\n",
       "      <th>2</th>\n",
       "      <td>2</td>\n",
       "      <td>I love you</td>\n",
       "      <td>1</td>\n",
       "    </tr>\n",
       "    <tr>\n",
       "      <th>3</th>\n",
       "      <td>3</td>\n",
       "      <td>Don't ever do that again</td>\n",
       "      <td>0</td>\n",
       "    </tr>\n",
       "    <tr>\n",
       "      <th>4</th>\n",
       "      <td>4</td>\n",
       "      <td>The way to the temple is from that side</td>\n",
       "      <td>1</td>\n",
       "    </tr>\n",
       "  </tbody>\n",
       "</table>\n",
       "</div>"
      ],
      "text/plain": [
       "   Unnamed: 0                                               text  label\n",
       "0           0  I really don't wanna stay in my house tonight....      0\n",
       "1           1                               I'm scared of snakes      1\n",
       "2           2                                         I love you      1\n",
       "3           3                           Don't ever do that again      0\n",
       "4           4            The way to the temple is from that side      1"
      ]
     },
     "execution_count": 47,
     "metadata": {},
     "output_type": "execute_result"
    }
   ],
   "source": [
    "testing.head()"
   ]
  },
  {
   "cell_type": "code",
   "execution_count": 48,
   "id": "31f2d375-eb94-4b05-bf19-4da722e9f1ac",
   "metadata": {},
   "outputs": [],
   "source": [
    "example_vector1 = vectorizer.transform(example)\n"
   ]
  },
  {
   "cell_type": "code",
   "execution_count": 49,
   "id": "eb895800-98c8-419b-a10d-e5135e1a30bf",
   "metadata": {},
   "outputs": [],
   "source": [
    "ans = svm_classifier.predict(example_vector1)"
   ]
  },
  {
   "cell_type": "code",
   "execution_count": 50,
   "id": "ae90c38b-de8e-4bca-8e67-ff3fa62c4f40",
   "metadata": {},
   "outputs": [
    {
     "name": "stdout",
     "output_type": "stream",
     "text": [
      "Accuracy: 0.9410294852573713\n"
     ]
    }
   ],
   "source": [
    "comparison = accuracy_score(ex_output, ans)\n",
    "print(f'Accuracy: {comparison}')"
   ]
  },
  {
   "cell_type": "code",
   "execution_count": null,
   "id": "542d2a5f-ad37-4b09-a61c-97df8842913c",
   "metadata": {},
   "outputs": [],
   "source": []
  }
 ],
 "metadata": {
  "kernelspec": {
   "display_name": "Python 3 (ipykernel)",
   "language": "python",
   "name": "python3"
  },
  "language_info": {
   "codemirror_mode": {
    "name": "ipython",
    "version": 3
   },
   "file_extension": ".py",
   "mimetype": "text/x-python",
   "name": "python",
   "nbconvert_exporter": "python",
   "pygments_lexer": "ipython3",
   "version": "3.11.5"
  }
 },
 "nbformat": 4,
 "nbformat_minor": 5
}
