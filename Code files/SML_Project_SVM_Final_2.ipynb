{
 "cells": [
  {
   "cell_type": "markdown",
   "id": "27adf557-355e-4c73-b184-3517519f3c27",
   "metadata": {},
   "source": [
    "# IMPORTING NECESSARY LIBRARIES"
   ]
  },
  {
   "cell_type": "code",
   "execution_count": 1,
   "id": "5bfeb74f",
   "metadata": {},
   "outputs": [
    {
     "name": "stdout",
     "output_type": "stream",
     "text": [
      "Requirement already satisfied: tweet-preprocessor in c:\\users\\patil\\anaconda3\\lib\\site-packages (0.6.0)\n"
     ]
    },
    {
     "name": "stderr",
     "output_type": "stream",
     "text": [
      "\n",
      "[notice] A new release of pip is available: 23.3.1 -> 24.0\n",
      "[notice] To update, run: python.exe -m pip install --upgrade pip\n"
     ]
    }
   ],
   "source": [
    "!pip install tweet-preprocessor"
   ]
  },
  {
   "cell_type": "code",
   "execution_count": 2,
   "id": "9091d63c-f0d3-47a1-b0ea-d8876213c13c",
   "metadata": {},
   "outputs": [
    {
     "name": "stderr",
     "output_type": "stream",
     "text": [
      "[nltk_data] Downloading package punkt to\n",
      "[nltk_data]     C:\\Users\\patil\\AppData\\Roaming\\nltk_data...\n",
      "[nltk_data]   Package punkt is already up-to-date!\n",
      "[nltk_data] Downloading package stopwords to\n",
      "[nltk_data]     C:\\Users\\patil\\AppData\\Roaming\\nltk_data...\n",
      "[nltk_data]   Package stopwords is already up-to-date!\n"
     ]
    },
    {
     "data": {
      "text/plain": [
       "True"
      ]
     },
     "execution_count": 2,
     "metadata": {},
     "output_type": "execute_result"
    }
   ],
   "source": [
    "import nltk\n",
    "nltk.download('punkt')\n",
    "nltk.download('stopwords')\n"
   ]
  },
  {
   "cell_type": "code",
   "execution_count": 3,
   "id": "d0a50dbd-233c-4056-bc20-a2aa8e420ef2",
   "metadata": {},
   "outputs": [],
   "source": [
    "import pandas as pd\n",
    "import string\n",
    "from nltk.tokenize import word_tokenize\n",
    "from nltk.corpus import stopwords\n",
    "from nltk.stem import PorterStemmer\n",
    "# Feature Scaling\n",
    "from sklearn.preprocessing import StandardScaler\n",
    "\n",
    "sc = StandardScaler()\n",
    "\n",
    "# Load dataset\n",
    "df = pd.read_csv('test_project.csv')\n",
    "#df = df.sample(frac=0.5)\n"
   ]
  },
  {
   "cell_type": "code",
   "execution_count": 4,
   "id": "12ef3bc6-0af5-497b-91b9-8c044905580c",
   "metadata": {},
   "outputs": [
    {
     "data": {
      "text/html": [
       "<div>\n",
       "<style scoped>\n",
       "    .dataframe tbody tr th:only-of-type {\n",
       "        vertical-align: middle;\n",
       "    }\n",
       "\n",
       "    .dataframe tbody tr th {\n",
       "        vertical-align: top;\n",
       "    }\n",
       "\n",
       "    .dataframe thead th {\n",
       "        text-align: right;\n",
       "    }\n",
       "</style>\n",
       "<table border=\"1\" class=\"dataframe\">\n",
       "  <thead>\n",
       "    <tr style=\"text-align: right;\">\n",
       "      <th></th>\n",
       "      <th>Text</th>\n",
       "      <th>Emotion</th>\n",
       "    </tr>\n",
       "  </thead>\n",
       "  <tbody>\n",
       "    <tr>\n",
       "      <th>21449</th>\n",
       "      <td>Edouard looked at him , and felt a sickening dism</td>\n",
       "      <td>2</td>\n",
       "    </tr>\n",
       "    <tr>\n",
       "      <th>21450</th>\n",
       "      <td>When Tina and the children moved into the Scho...</td>\n",
       "      <td>2</td>\n",
       "    </tr>\n",
       "    <tr>\n",
       "      <th>21451</th>\n",
       "      <td>But he felt ` dismay and sorrow for so many pe...</td>\n",
       "      <td>2</td>\n",
       "    </tr>\n",
       "    <tr>\n",
       "      <th>21452</th>\n",
       "      <td>They stared at one another in dismay , the sad...</td>\n",
       "      <td>2</td>\n",
       "    </tr>\n",
       "    <tr>\n",
       "      <th>21453</th>\n",
       "      <td>Cleo stared at the contents with dism</td>\n",
       "      <td>2</td>\n",
       "    </tr>\n",
       "    <tr>\n",
       "      <th>21454</th>\n",
       "      <td>Melissa stared at her friend in dism</td>\n",
       "      <td>2</td>\n",
       "    </tr>\n",
       "    <tr>\n",
       "      <th>21455</th>\n",
       "      <td>Successive state elections have seen the gover...</td>\n",
       "      <td>2</td>\n",
       "    </tr>\n",
       "    <tr>\n",
       "      <th>21456</th>\n",
       "      <td>Vincent was irritated but not dismay</td>\n",
       "      <td>2</td>\n",
       "    </tr>\n",
       "    <tr>\n",
       "      <th>21457</th>\n",
       "      <td>Kendall-Hume turned back to face the dismayed ...</td>\n",
       "      <td>2</td>\n",
       "    </tr>\n",
       "    <tr>\n",
       "      <th>21458</th>\n",
       "      <td>I am dismayed , but not surpris</td>\n",
       "      <td>2</td>\n",
       "    </tr>\n",
       "  </tbody>\n",
       "</table>\n",
       "</div>"
      ],
      "text/plain": [
       "                                                    Text  Emotion\n",
       "21449  Edouard looked at him , and felt a sickening dism        2\n",
       "21450  When Tina and the children moved into the Scho...        2\n",
       "21451  But he felt ` dismay and sorrow for so many pe...        2\n",
       "21452  They stared at one another in dismay , the sad...        2\n",
       "21453              Cleo stared at the contents with dism        2\n",
       "21454               Melissa stared at her friend in dism        2\n",
       "21455  Successive state elections have seen the gover...        2\n",
       "21456               Vincent was irritated but not dismay        2\n",
       "21457  Kendall-Hume turned back to face the dismayed ...        2\n",
       "21458                    I am dismayed , but not surpris        2"
      ]
     },
     "execution_count": 4,
     "metadata": {},
     "output_type": "execute_result"
    }
   ],
   "source": [
    "df.tail(10)"
   ]
  },
  {
   "cell_type": "markdown",
   "id": "f5fc97be-107c-4eb7-b355-2c0989daf0c9",
   "metadata": {},
   "source": [
    "# DATA PREPROCESSING"
   ]
  },
  {
   "cell_type": "code",
   "execution_count": 5,
   "id": "4d61f62c",
   "metadata": {},
   "outputs": [],
   "source": [
    "import preprocessor as p"
   ]
  },
  {
   "cell_type": "code",
   "execution_count": 6,
   "id": "ed71d591",
   "metadata": {},
   "outputs": [],
   "source": [
    "# remove special characters using the regular expression library\n",
    "import re\n",
    "\n",
    "#set up punctuations we want to be replaced\n",
    "REPLACE_NO_SPACE = re.compile(\"(\\.)|(\\;)|(\\:)|(\\!)|(\\')|(\\?)|(\\,)|(\\\")|(\\|)|(\\()|(\\))|(\\[)|(\\])|(\\%)|(\\$)|(\\>)|(\\<)|(\\{)|(\\})\")\n",
    "REPLACE_WITH_SPACE = re.compile(\"(<br\\s/><br\\s/?)|(-)|(/)|(:).\")"
   ]
  },
  {
   "cell_type": "code",
   "execution_count": null,
   "id": "360d5d0e",
   "metadata": {},
   "outputs": [],
   "source": []
  },
  {
   "cell_type": "code",
   "execution_count": 7,
   "id": "30568261",
   "metadata": {},
   "outputs": [],
   "source": [
    "def preprocessing(a):\n",
    "    tmp = []\n",
    "    for line in a:\n",
    "        tmp1 = p.clean(line)\n",
    "        tmp1 = REPLACE_NO_SPACE.sub(\"\", tmp1.lower()) # convert all tweets to lower cases\n",
    "        tmp1 = REPLACE_WITH_SPACE.sub(\" \", tmp1)\n",
    "        tmp.append(tmp1)\n",
    "    return tmp"
   ]
  },
  {
   "cell_type": "code",
   "execution_count": 8,
   "id": "84b07684",
   "metadata": {},
   "outputs": [],
   "source": [
    "train_data = preprocessing(df[\"Text\"])\n",
    "train_data = pd.DataFrame(train_data)"
   ]
  },
  {
   "cell_type": "code",
   "execution_count": 9,
   "id": "97dfdf06",
   "metadata": {},
   "outputs": [
    {
     "data": {
      "text/html": [
       "<div>\n",
       "<style scoped>\n",
       "    .dataframe tbody tr th:only-of-type {\n",
       "        vertical-align: middle;\n",
       "    }\n",
       "\n",
       "    .dataframe tbody tr th {\n",
       "        vertical-align: top;\n",
       "    }\n",
       "\n",
       "    .dataframe thead th {\n",
       "        text-align: right;\n",
       "    }\n",
       "</style>\n",
       "<table border=\"1\" class=\"dataframe\">\n",
       "  <thead>\n",
       "    <tr style=\"text-align: right;\">\n",
       "      <th></th>\n",
       "      <th>Text</th>\n",
       "      <th>Emotion</th>\n",
       "      <th>preprocessing</th>\n",
       "    </tr>\n",
       "  </thead>\n",
       "  <tbody>\n",
       "    <tr>\n",
       "      <th>0</th>\n",
       "      <td>i didnt feel humiliated</td>\n",
       "      <td>0</td>\n",
       "      <td>i didnt feel humiliated</td>\n",
       "    </tr>\n",
       "    <tr>\n",
       "      <th>1</th>\n",
       "      <td>i can go from feeling so hopeless to so damned...</td>\n",
       "      <td>0</td>\n",
       "      <td>i can go from feeling so hopeless to so damned...</td>\n",
       "    </tr>\n",
       "    <tr>\n",
       "      <th>2</th>\n",
       "      <td>im grabbing a minute to post i feel greedy wrong</td>\n",
       "      <td>0</td>\n",
       "      <td>im grabbing a minute to post i feel greedy wrong</td>\n",
       "    </tr>\n",
       "    <tr>\n",
       "      <th>3</th>\n",
       "      <td>i am ever feeling nostalgic about the fireplac...</td>\n",
       "      <td>1</td>\n",
       "      <td>i am ever feeling nostalgic about the fireplac...</td>\n",
       "    </tr>\n",
       "    <tr>\n",
       "      <th>4</th>\n",
       "      <td>i am feeling grouchy</td>\n",
       "      <td>0</td>\n",
       "      <td>i am feeling grouchy</td>\n",
       "    </tr>\n",
       "    <tr>\n",
       "      <th>5</th>\n",
       "      <td>ive been feeling a little burdened lately wasn...</td>\n",
       "      <td>0</td>\n",
       "      <td>ive been feeling a little burdened lately wasn...</td>\n",
       "    </tr>\n",
       "    <tr>\n",
       "      <th>6</th>\n",
       "      <td>ive been taking or milligrams or times recomme...</td>\n",
       "      <td>2</td>\n",
       "      <td>ive been taking or milligrams or times recomme...</td>\n",
       "    </tr>\n",
       "    <tr>\n",
       "      <th>7</th>\n",
       "      <td>i feel as confused about life as a teenager or...</td>\n",
       "      <td>2</td>\n",
       "      <td>i feel as confused about life as a teenager or...</td>\n",
       "    </tr>\n",
       "    <tr>\n",
       "      <th>8</th>\n",
       "      <td>i have been with petronas for years i feel tha...</td>\n",
       "      <td>1</td>\n",
       "      <td>i have been with petronas for years i feel tha...</td>\n",
       "    </tr>\n",
       "    <tr>\n",
       "      <th>9</th>\n",
       "      <td>i feel romantic too</td>\n",
       "      <td>1</td>\n",
       "      <td>i feel romantic too</td>\n",
       "    </tr>\n",
       "  </tbody>\n",
       "</table>\n",
       "</div>"
      ],
      "text/plain": [
       "                                                Text  Emotion  \\\n",
       "0                            i didnt feel humiliated        0   \n",
       "1  i can go from feeling so hopeless to so damned...        0   \n",
       "2   im grabbing a minute to post i feel greedy wrong        0   \n",
       "3  i am ever feeling nostalgic about the fireplac...        1   \n",
       "4                               i am feeling grouchy        0   \n",
       "5  ive been feeling a little burdened lately wasn...        0   \n",
       "6  ive been taking or milligrams or times recomme...        2   \n",
       "7  i feel as confused about life as a teenager or...        2   \n",
       "8  i have been with petronas for years i feel tha...        1   \n",
       "9                                i feel romantic too        1   \n",
       "\n",
       "                                       preprocessing  \n",
       "0                            i didnt feel humiliated  \n",
       "1  i can go from feeling so hopeless to so damned...  \n",
       "2   im grabbing a minute to post i feel greedy wrong  \n",
       "3  i am ever feeling nostalgic about the fireplac...  \n",
       "4                               i am feeling grouchy  \n",
       "5  ive been feeling a little burdened lately wasn...  \n",
       "6  ive been taking or milligrams or times recomme...  \n",
       "7  i feel as confused about life as a teenager or...  \n",
       "8  i have been with petronas for years i feel tha...  \n",
       "9                                i feel romantic too  "
      ]
     },
     "execution_count": 9,
     "metadata": {},
     "output_type": "execute_result"
    }
   ],
   "source": [
    "df[\"preprocessing\"] = train_data\n",
    "\n",
    "#compare normal and preprocessed data\n",
    "df.head(10)"
   ]
  },
  {
   "cell_type": "code",
   "execution_count": 10,
   "id": "efcf55ad-fc26-44bf-bce5-5107de412f77",
   "metadata": {},
   "outputs": [
    {
     "data": {
      "text/plain": [
       "\"# Lowercasing\\ndf['text'] = df['text'].str.lower()\\n\\n# Tokenization\\ndf['tokens'] = df['text'].apply(word_tokenize)\\n\\n# Removing Punctuation\\ndf['tokens'] = df['tokens'].apply(lambda tokens: [word for word in tokens if word not in string.punctuation])\\n\\n# Removing Stopwords\\nstop_words = set(stopwords.words('english'))\\ndf['tokens'] = df['tokens'].apply(lambda tokens: [word for word in tokens if word not in stop_words])\\n\\n# Stemming\\nstemmer = PorterStemmer()\\ndf['tokens'] = df['tokens'].apply(lambda tokens: [stemmer.stem(word) for word in tokens])\\n\\n# Join tokens back into sentences\\ndf['processed_text'] = df['tokens'].apply(' '.join)\\n\\n# Print the first few rows to check the result\\nprint(df.head(20))\""
      ]
     },
     "execution_count": 10,
     "metadata": {},
     "output_type": "execute_result"
    }
   ],
   "source": [
    "'''# Lowercasing\n",
    "df['text'] = df['text'].str.lower()\n",
    "\n",
    "# Tokenization\n",
    "df['tokens'] = df['text'].apply(word_tokenize)\n",
    "\n",
    "# Removing Punctuation\n",
    "df['tokens'] = df['tokens'].apply(lambda tokens: [word for word in tokens if word not in string.punctuation])\n",
    "\n",
    "# Removing Stopwords\n",
    "stop_words = set(stopwords.words('english'))\n",
    "df['tokens'] = df['tokens'].apply(lambda tokens: [word for word in tokens if word not in stop_words])\n",
    "\n",
    "# Stemming\n",
    "stemmer = PorterStemmer()\n",
    "df['tokens'] = df['tokens'].apply(lambda tokens: [stemmer.stem(word) for word in tokens])\n",
    "\n",
    "# Join tokens back into sentences\n",
    "df['processed_text'] = df['tokens'].apply(' '.join)\n",
    "\n",
    "# Print the first few rows to check the result\n",
    "print(df.head(20))'''\n",
    "\n"
   ]
  },
  {
   "cell_type": "code",
   "execution_count": 11,
   "id": "55748e8f-1030-4771-b5b0-624b4fe06dd5",
   "metadata": {},
   "outputs": [
    {
     "name": "stdout",
     "output_type": "stream",
     "text": [
      "                                                    Text  Emotion  \\\n",
      "21454               Melissa stared at her friend in dism        2   \n",
      "21455  Successive state elections have seen the gover...        2   \n",
      "21456               Vincent was irritated but not dismay        2   \n",
      "21457  Kendall-Hume turned back to face the dismayed ...        2   \n",
      "21458                    I am dismayed , but not surpris        2   \n",
      "\n",
      "                                           preprocessing  \n",
      "21454               melissa stared at her friend in dism  \n",
      "21455  successive state elections have seen the gover...  \n",
      "21456               vincent was irritated but not dismay  \n",
      "21457  kendall hume turned back to face the dismayed ...  \n",
      "21458                     i am dismayed  but not surpris  \n"
     ]
    }
   ],
   "source": [
    "print(df.tail(5))"
   ]
  },
  {
   "cell_type": "code",
   "execution_count": 12,
   "id": "b0eba794-785a-4f50-9fa3-9135249f7f18",
   "metadata": {},
   "outputs": [
    {
     "name": "stdout",
     "output_type": "stream",
     "text": [
      "                                                Text  Emotion  \\\n",
      "0                            i didnt feel humiliated        0   \n",
      "1  i can go from feeling so hopeless to so damned...        0   \n",
      "2   im grabbing a minute to post i feel greedy wrong        0   \n",
      "3  i am ever feeling nostalgic about the fireplac...        1   \n",
      "4                               i am feeling grouchy        0   \n",
      "\n",
      "                                       preprocessing  sentiment  \n",
      "0                            i didnt feel humiliated          0  \n",
      "1  i can go from feeling so hopeless to so damned...          0  \n",
      "2   im grabbing a minute to post i feel greedy wrong          0  \n",
      "3  i am ever feeling nostalgic about the fireplac...          1  \n",
      "4                               i am feeling grouchy          0  \n"
     ]
    }
   ],
   "source": [
    "# Define the mapping between emotion labels and sentiment labels\n",
    "emotion_to_sentiment = {\n",
    "    0: 0,  # sadness\n",
    "    1: 1,  # joy\n",
    "    2: 2,  # love\n",
    "}\n",
    "\n",
    "# Map emotion labels to sentiment labels and create a new column 'sentiment'\n",
    "df['sentiment'] = df['Emotion'].map(emotion_to_sentiment)\n",
    "\n",
    "# Print the first few rows to check the result\n",
    "print(df.head())\n"
   ]
  },
  {
   "cell_type": "code",
   "execution_count": 13,
   "id": "01c987b1-90e4-455d-b025-26b9416b5d5d",
   "metadata": {},
   "outputs": [
    {
     "name": "stdout",
     "output_type": "stream",
     "text": [
      "                                                 Text  Emotion  \\\n",
      "0                             i didnt feel humiliated        0   \n",
      "1   i can go from feeling so hopeless to so damned...        0   \n",
      "2    im grabbing a minute to post i feel greedy wrong        0   \n",
      "3   i am ever feeling nostalgic about the fireplac...        1   \n",
      "4                                i am feeling grouchy        0   \n",
      "5   ive been feeling a little burdened lately wasn...        0   \n",
      "6   ive been taking or milligrams or times recomme...        2   \n",
      "7   i feel as confused about life as a teenager or...        2   \n",
      "8   i have been with petronas for years i feel tha...        1   \n",
      "9                                 i feel romantic too        1   \n",
      "10  i feel like i have to make the suffering i m s...        0   \n",
      "11  i do feel that running is a divine experience ...        1   \n",
      "12  i think it s the easiest time of year to feel ...        0   \n",
      "13                 i feel low energy i m just thirsty        0   \n",
      "14  i have immense sympathy with the general point...        1   \n",
      "15    i do not feel reassured anxiety is on each side        1   \n",
      "16               i didnt really feel that embarrassed        0   \n",
      "17            i feel pretty pathetic most of the time        0   \n",
      "18  i started feeling sentimental about dolls i ha...        0   \n",
      "19  i now feel compromised and skeptical of the va...        2   \n",
      "20  i feel irritated and rejected without anyone d...        0   \n",
      "21  i am feeling completely overwhelmed i have two...        2   \n",
      "22    i have the feeling she was amused and delighted        1   \n",
      "23  i was able to help chai lifeline with your sup...        1   \n",
      "24  i already feel like i fucked up though because...        0   \n",
      "25  i still 1 my so and wish the best for him i ca...        0   \n",
      "26  i feel so inhibited in someone elses kitchen l...        0   \n",
      "27             i become overwhelmed and feel defeated        0   \n",
      "28  i feel kinda appalled that she feels like she ...        0   \n",
      "29  i feel more superior dead chicken or grieving ...        1   \n",
      "30  i get giddy over feeling elegant in a perfectl...        1   \n",
      "31  i remember feeling acutely distressed for a fe...        2   \n",
      "32  i have seen heard and read over the past coupl...        2   \n",
      "33  i climbed the hill feeling frustrated that id ...        0   \n",
      "34  i can t imagine a real life scenario where i w...        1   \n",
      "35  i am not sure what would make me feel content ...        1   \n",
      "36        i have been feeling the need to be creative        1   \n",
      "37  i do however want you to know that if somethin...        1   \n",
      "38  i feel a bit rude writing to an elderly gentle...        0   \n",
      "39  i need you i need someone i need to be protect...        1   \n",
      "40  i plan to share my everyday life stories trave...        1   \n",
      "41  i already have my christmas trees up i got two...        1   \n",
      "42  ive worn it once on its own with a little conc...        1   \n",
      "43  i feel very strongly passionate about when som...        1   \n",
      "44  i was feeling so discouraged we are already ro...        0   \n",
      "45  i was feeling listless from the need of new th...        0   \n",
      "46  i lost my special mind but don t worry i m sti...        1   \n",
      "47  i can t let go of that sad feeling that i want...        1   \n",
      "48                          on a boat trip to denmark        1   \n",
      "49       i stopped feeling cold and began feeling hot        0   \n",
      "\n",
      "                                        preprocessing  sentiment  \n",
      "0                             i didnt feel humiliated          0  \n",
      "1   i can go from feeling so hopeless to so damned...          0  \n",
      "2    im grabbing a minute to post i feel greedy wrong          0  \n",
      "3   i am ever feeling nostalgic about the fireplac...          1  \n",
      "4                                i am feeling grouchy          0  \n",
      "5   ive been feeling a little burdened lately wasn...          0  \n",
      "6   ive been taking or milligrams or times recomme...          2  \n",
      "7   i feel as confused about life as a teenager or...          2  \n",
      "8   i have been with petronas for years i feel tha...          1  \n",
      "9                                 i feel romantic too          1  \n",
      "10  i feel like i have to make the suffering i m s...          0  \n",
      "11  i do feel that running is a divine experience ...          1  \n",
      "12  i think it s the easiest time of year to feel ...          0  \n",
      "13                 i feel low energy i m just thirsty          0  \n",
      "14  i have immense sympathy with the general point...          1  \n",
      "15    i do not feel reassured anxiety is on each side          1  \n",
      "16               i didnt really feel that embarrassed          0  \n",
      "17            i feel pretty pathetic most of the time          0  \n",
      "18  i started feeling sentimental about dolls i ha...          0  \n",
      "19  i now feel compromised and skeptical of the va...          2  \n",
      "20  i feel irritated and rejected without anyone d...          0  \n",
      "21  i am feeling completely overwhelmed i have two...          2  \n",
      "22    i have the feeling she was amused and delighted          1  \n",
      "23  i was able to help chai lifeline with your sup...          1  \n",
      "24  i already feel like i fucked up though because...          0  \n",
      "25  i still my so and wish the best for him i can ...          0  \n",
      "26  i feel so inhibited in someone elses kitchen l...          0  \n",
      "27             i become overwhelmed and feel defeated          0  \n",
      "28  i feel kinda appalled that she feels like she ...          0  \n",
      "29  i feel more superior dead chicken or grieving ...          1  \n",
      "30  i get giddy over feeling elegant in a perfectl...          1  \n",
      "31  i remember feeling acutely distressed for a fe...          2  \n",
      "32  i have seen heard and read over the past coupl...          2  \n",
      "33  i climbed the hill feeling frustrated that id ...          0  \n",
      "34  i can t imagine a real life scenario where i w...          1  \n",
      "35  i am not sure what would make me feel content ...          1  \n",
      "36        i have been feeling the need to be creative          1  \n",
      "37  i do however want you to know that if somethin...          1  \n",
      "38  i feel a bit rude writing to an elderly gentle...          0  \n",
      "39  i need you i need someone i need to be protect...          1  \n",
      "40  i plan to share my everyday life stories trave...          1  \n",
      "41  i already have my christmas trees up i got two...          1  \n",
      "42  ive worn it once on its own with a little conc...          1  \n",
      "43  i feel very strongly passionate about when som...          1  \n",
      "44  i was feeling so discouraged we are already ro...          0  \n",
      "45  i was feeling listless from the need of new th...          0  \n",
      "46  i lost my special mind but don t worry i m sti...          1  \n",
      "47  i can t let go of that sad feeling that i want...          1  \n",
      "48                          on a boat trip to denmark          1  \n",
      "49       i stopped feeling cold and began feeling hot          0  \n"
     ]
    }
   ],
   "source": [
    "print(df.head(50))"
   ]
  },
  {
   "cell_type": "markdown",
   "id": "e9af22c2-1751-47eb-8760-031a8fe04837",
   "metadata": {},
   "source": [
    "# EDA (EXPLORATORY DATA ANALYSIS)"
   ]
  },
  {
   "cell_type": "code",
   "execution_count": 14,
   "id": "390c6f61-332b-4b14-a551-804f1c2f6744",
   "metadata": {},
   "outputs": [
    {
     "data": {
      "image/png": "[encoded data removed]",
      "text/plain": [
       "<Figure size 640x480 with 1 Axes>"
      ]
     },
     "metadata": {},
     "output_type": "display_data"
    },
    {
     "data": {
      "image/png": "[encoded data removed]",
      "text/plain": [
       "<Figure size 640x480 with 1 Axes>"
      ]
     },
     "metadata": {},
     "output_type": "display_data"
    },
    {
     "data": {
      "text/plain": [
       "\"# Explore word frequency in the dataset\\nfrom collections import Counter\\nwords = [word for sublist in df['preprocessing'] for word in sublist]\\nword_freq = Counter(words)\\ncommon_words = word_freq.most_common(20)\\ncommon_words_df = pd.DataFrame(common_words, columns=['Word', 'Frequency'])\\nplt.figure(figsize=(10, 6))\\nsns.barplot(x='Frequency', y='Word', data=common_words_df)\\nplt.title('Top 20 Most Common Words')\\nplt.xlabel('Frequency')\\nplt.ylabel('Word')\\nplt.show()\""
      ]
     },
     "execution_count": 14,
     "metadata": {},
     "output_type": "execute_result"
    }
   ],
   "source": [
    "import pandas as pd\n",
    "import matplotlib.pyplot as plt\n",
    "import seaborn as sns\n",
    "\n",
    "# Load the preprocessed dataset\n",
    "# Assuming df is your DataFrame containing the preprocessed data\n",
    "# df = pd.read_csv('preprocessed_data.csv')\n",
    "\n",
    "# Explore the distribution of sentiment labels\n",
    "sns.countplot(x='sentiment', data=df)\n",
    "plt.title('Distribution of Sentiment Labels')\n",
    "plt.xlabel('Sentiment')\n",
    "plt.ylabel('Count')\n",
    "plt.show()\n",
    "\n",
    "# Explore the distribution of text lengths\n",
    "df['text_length'] = df['Text'].apply(len)\n",
    "plt.hist(df['text_length'], bins=30)\n",
    "plt.title('Distribution of Text Lengths')\n",
    "plt.xlabel('Text Length')\n",
    "plt.ylabel('Count')\n",
    "plt.show()\n",
    "\n",
    "'''# Explore word frequency in the dataset\n",
    "from collections import Counter\n",
    "words = [word for sublist in df['preprocessing'] for word in sublist]\n",
    "word_freq = Counter(words)\n",
    "common_words = word_freq.most_common(20)\n",
    "common_words_df = pd.DataFrame(common_words, columns=['Word', 'Frequency'])\n",
    "plt.figure(figsize=(10, 6))\n",
    "sns.barplot(x='Frequency', y='Word', data=common_words_df)\n",
    "plt.title('Top 20 Most Common Words')\n",
    "plt.xlabel('Frequency')\n",
    "plt.ylabel('Word')\n",
    "plt.show()'''\n"
   ]
  },
  {
   "cell_type": "code",
   "execution_count": 15,
   "id": "94769ae8-2004-42df-96dc-e436b144040d",
   "metadata": {},
   "outputs": [
    {
     "data": {
      "text/html": [
       "<div>\n",
       "<style scoped>\n",
       "    .dataframe tbody tr th:only-of-type {\n",
       "        vertical-align: middle;\n",
       "    }\n",
       "\n",
       "    .dataframe tbody tr th {\n",
       "        vertical-align: top;\n",
       "    }\n",
       "\n",
       "    .dataframe thead th {\n",
       "        text-align: right;\n",
       "    }\n",
       "</style>\n",
       "<table border=\"1\" class=\"dataframe\">\n",
       "  <thead>\n",
       "    <tr style=\"text-align: right;\">\n",
       "      <th></th>\n",
       "      <th>Text</th>\n",
       "      <th>Emotion</th>\n",
       "      <th>preprocessing</th>\n",
       "      <th>sentiment</th>\n",
       "      <th>text_length</th>\n",
       "    </tr>\n",
       "  </thead>\n",
       "  <tbody>\n",
       "    <tr>\n",
       "      <th>5765</th>\n",
       "      <td>i wish i could open up to people not feel so t...</td>\n",
       "      <td>2</td>\n",
       "      <td>i wish i could open up to people not feel so t...</td>\n",
       "      <td>2</td>\n",
       "      <td>80</td>\n",
       "    </tr>\n",
       "    <tr>\n",
       "      <th>2418</th>\n",
       "      <td>i feel very blessed this year my daughter and ...</td>\n",
       "      <td>1</td>\n",
       "      <td>i feel very blessed this year my daughter and ...</td>\n",
       "      <td>1</td>\n",
       "      <td>131</td>\n",
       "    </tr>\n",
       "    <tr>\n",
       "      <th>4834</th>\n",
       "      <td>i feel assaulted the new kid whined</td>\n",
       "      <td>2</td>\n",
       "      <td>i feel assaulted the new kid whined</td>\n",
       "      <td>2</td>\n",
       "      <td>35</td>\n",
       "    </tr>\n",
       "    <tr>\n",
       "      <th>185</th>\n",
       "      <td>i feel like i m always the one getting punishe...</td>\n",
       "      <td>0</td>\n",
       "      <td>i feel like i m always the one getting punishe...</td>\n",
       "      <td>0</td>\n",
       "      <td>114</td>\n",
       "    </tr>\n",
       "    <tr>\n",
       "      <th>14134</th>\n",
       "      <td>i were dating myself right now i d be telling ...</td>\n",
       "      <td>0</td>\n",
       "      <td>i were dating myself right now i d be telling ...</td>\n",
       "      <td>0</td>\n",
       "      <td>131</td>\n",
       "    </tr>\n",
       "    <tr>\n",
       "      <th>2840</th>\n",
       "      <td>i hate these feelings of not being complacent</td>\n",
       "      <td>1</td>\n",
       "      <td>i hate these feelings of not being complacent</td>\n",
       "      <td>1</td>\n",
       "      <td>45</td>\n",
       "    </tr>\n",
       "    <tr>\n",
       "      <th>11191</th>\n",
       "      <td>i bought myself a make up palette two months b...</td>\n",
       "      <td>1</td>\n",
       "      <td>i bought myself a make up palette two months b...</td>\n",
       "      <td>1</td>\n",
       "      <td>103</td>\n",
       "    </tr>\n",
       "    <tr>\n",
       "      <th>14411</th>\n",
       "      <td>i feel like a cranky old man saying this but s...</td>\n",
       "      <td>0</td>\n",
       "      <td>i feel like a cranky old man saying this but s...</td>\n",
       "      <td>0</td>\n",
       "      <td>55</td>\n",
       "    </tr>\n",
       "    <tr>\n",
       "      <th>7069</th>\n",
       "      <td>i honestly feel a little bit relieved</td>\n",
       "      <td>1</td>\n",
       "      <td>i honestly feel a little bit relieved</td>\n",
       "      <td>1</td>\n",
       "      <td>37</td>\n",
       "    </tr>\n",
       "    <tr>\n",
       "      <th>20715</th>\n",
       "      <td>A merciful wave was closing over it , healing ...</td>\n",
       "      <td>0</td>\n",
       "      <td>a merciful wave was closing over it  healing h...</td>\n",
       "      <td>0</td>\n",
       "      <td>56</td>\n",
       "    </tr>\n",
       "  </tbody>\n",
       "</table>\n",
       "</div>"
      ],
      "text/plain": [
       "                                                    Text  Emotion  \\\n",
       "5765   i wish i could open up to people not feel so t...        2   \n",
       "2418   i feel very blessed this year my daughter and ...        1   \n",
       "4834                 i feel assaulted the new kid whined        2   \n",
       "185    i feel like i m always the one getting punishe...        0   \n",
       "14134  i were dating myself right now i d be telling ...        0   \n",
       "2840       i hate these feelings of not being complacent        1   \n",
       "11191  i bought myself a make up palette two months b...        1   \n",
       "14411  i feel like a cranky old man saying this but s...        0   \n",
       "7069               i honestly feel a little bit relieved        1   \n",
       "20715  A merciful wave was closing over it , healing ...        0   \n",
       "\n",
       "                                           preprocessing  sentiment  \\\n",
       "5765   i wish i could open up to people not feel so t...          2   \n",
       "2418   i feel very blessed this year my daughter and ...          1   \n",
       "4834                 i feel assaulted the new kid whined          2   \n",
       "185    i feel like i m always the one getting punishe...          0   \n",
       "14134  i were dating myself right now i d be telling ...          0   \n",
       "2840       i hate these feelings of not being complacent          1   \n",
       "11191  i bought myself a make up palette two months b...          1   \n",
       "14411  i feel like a cranky old man saying this but s...          0   \n",
       "7069               i honestly feel a little bit relieved          1   \n",
       "20715  a merciful wave was closing over it  healing h...          0   \n",
       "\n",
       "       text_length  \n",
       "5765            80  \n",
       "2418           131  \n",
       "4834            35  \n",
       "185            114  \n",
       "14134          131  \n",
       "2840            45  \n",
       "11191          103  \n",
       "14411           55  \n",
       "7069            37  \n",
       "20715           56  "
      ]
     },
     "execution_count": 15,
     "metadata": {},
     "output_type": "execute_result"
    }
   ],
   "source": [
    "df.sample(10)"
   ]
  },
  {
   "cell_type": "code",
   "execution_count": 16,
   "id": "48b059e2-ea4b-4372-8acc-d613e981179b",
   "metadata": {},
   "outputs": [
    {
     "data": {
      "text/plain": [
       "Index(['Text', 'Emotion', 'preprocessing', 'sentiment', 'text_length'], dtype='object')"
      ]
     },
     "execution_count": 16,
     "metadata": {},
     "output_type": "execute_result"
    }
   ],
   "source": [
    "df.columns"
   ]
  },
  {
   "cell_type": "markdown",
   "id": "14490dfb",
   "metadata": {},
   "source": [
    "# Preprocess the Test Set"
   ]
  },
  {
   "cell_type": "code",
   "execution_count": 17,
   "id": "330d4e76",
   "metadata": {},
   "outputs": [],
   "source": [
    "#test_set = pd.read_csv('text_emotion.csv')"
   ]
  },
  {
   "cell_type": "code",
   "execution_count": 18,
   "id": "808009d6-d9f7-4ec9-85ca-3dba0bea8673",
   "metadata": {},
   "outputs": [],
   "source": [
    "#features = df.drop(columns=['text', 'label', 'tokens', 'processed_text'])\n",
    "labels = df['sentiment']\n"
   ]
  },
  {
   "cell_type": "markdown",
   "id": "aa69bcea",
   "metadata": {},
   "source": [
    "# SPLIT THE DATASET"
   ]
  },
  {
   "cell_type": "code",
   "execution_count": 19,
   "id": "2993012f-393e-4284-a918-eebb045cdab0",
   "metadata": {},
   "outputs": [],
   "source": [
    "from sklearn.model_selection import train_test_split\n",
    "\n",
    "\n",
    "\n",
    "# Split the data into training and testing sets\n",
    "X_train, X_test, y_train, y_test = train_test_split(df.preprocessing.values, labels, test_size=0.1, random_state=4, shuffle=True)\n",
    "\n",
    "\n",
    "\n",
    "# Display the shapes of the training and testing sets\n",
    "#X_train.shape # (333447, 1003)\n"
   ]
  },
  {
   "cell_type": "code",
   "execution_count": 20,
   "id": "6c1218c5-32dc-4272-ad43-4ba356a11e1a",
   "metadata": {},
   "outputs": [
    {
     "data": {
      "text/plain": [
       "array(['i could go on and on right now about what weve been through this year and what ive learned what micah could do when and such but i wont because this would be a book and honestly im not feeling fabulous today and micah has been dealing with a giant cold since thursday and we are wiped',\n",
       "       'i feel like an idiotic twat for some of the things i have written in the past and for some of the things i have advertised having done',\n",
       "       'i feel a divine calling to become an lsd chemist the pub shroomery message board link href smarty templates css www',\n",
       "       ...,\n",
       "       'i reread for comfort the familiarity of a book whose plot i already know is easier to deal with when im feeling stressed than a new to me book with all its unknowns',\n",
       "       'i am feeling quite smug now as i didn t actually see any mating but assessed the signs calculated the dates etc and got it spot on',\n",
       "       'i feel furious at because i really thought it was better than that'],\n",
       "      dtype=object)"
      ]
     },
     "execution_count": 20,
     "metadata": {},
     "output_type": "execute_result"
    }
   ],
   "source": [
    "X_train"
   ]
  },
  {
   "cell_type": "code",
   "execution_count": 21,
   "id": "e461e25d",
   "metadata": {},
   "outputs": [
    {
     "data": {
      "text/plain": [
       "(19313,)"
      ]
     },
     "execution_count": 21,
     "metadata": {},
     "output_type": "execute_result"
    }
   ],
   "source": [
    "X_train.shape"
   ]
  },
  {
   "cell_type": "code",
   "execution_count": 22,
   "id": "94f3e611-531c-4d3e-bbf2-b54a8cc08f64",
   "metadata": {},
   "outputs": [
    {
     "name": "stdout",
     "output_type": "stream",
     "text": [
      "0    0\n",
      "1    0\n",
      "2    0\n",
      "3    1\n",
      "4    0\n",
      "Name: sentiment, dtype: int64\n",
      "(21459,)\n"
     ]
    }
   ],
   "source": [
    "print(labels.head())\n",
    "print(labels.shape)\n",
    "\n"
   ]
  },
  {
   "cell_type": "code",
   "execution_count": 23,
   "id": "e34611c3-9aac-46fa-a983-bee4ccda59d2",
   "metadata": {},
   "outputs": [
    {
     "data": {
      "text/plain": [
       "'labels_new = labels.iloc[:, 0]\\n\\nprint(labels_new.head())\\nprint(labels_new.shape)'"
      ]
     },
     "execution_count": 23,
     "metadata": {},
     "output_type": "execute_result"
    }
   ],
   "source": [
    "'''labels_new = labels.iloc[:, 0]\n",
    "\n",
    "print(labels_new.head())\n",
    "print(labels_new.shape)'''\n",
    "\n"
   ]
  },
  {
   "cell_type": "code",
   "execution_count": 24,
   "id": "17ac0d29-1f5a-481e-82f3-afa2be993eef",
   "metadata": {},
   "outputs": [
    {
     "name": "stdout",
     "output_type": "stream",
     "text": [
      "(19313,)\n",
      "(2146,)\n",
      "(19313,)\n",
      "(2146,)\n"
     ]
    }
   ],
   "source": [
    "print(X_train.shape)\n",
    "print(X_test.shape)\n",
    "print(y_train.shape)\n",
    "print(y_test.shape)"
   ]
  },
  {
   "cell_type": "code",
   "execution_count": 25,
   "id": "47dcf9b8-9f71-4059-80fa-12e121223fbe",
   "metadata": {},
   "outputs": [
    {
     "name": "stdout",
     "output_type": "stream",
     "text": [
      "['i could go on and on right now about what weve been through this year and what ive learned what micah could do when and such but i wont because this would be a book and honestly im not feeling fabulous today and micah has been dealing with a giant cold since thursday and we are wiped'\n",
      " 'i feel like an idiotic twat for some of the things i have written in the past and for some of the things i have advertised having done'\n",
      " 'i feel a divine calling to become an lsd chemist the pub shroomery message board link href smarty templates css www'\n",
      " ...\n",
      " 'i reread for comfort the familiarity of a book whose plot i already know is easier to deal with when im feeling stressed than a new to me book with all its unknowns'\n",
      " 'i am feeling quite smug now as i didn t actually see any mating but assessed the signs calculated the dates etc and got it spot on'\n",
      " 'i feel furious at because i really thought it was better than that']\n",
      "10513    2\n",
      "4723     1\n",
      "19586    0\n",
      "8637     1\n",
      "11952    2\n",
      "        ..\n",
      "920      0\n",
      "16448    1\n",
      "17952    2\n",
      "10784    2\n",
      "7114     1\n",
      "Name: sentiment, Length: 2146, dtype: int64\n"
     ]
    }
   ],
   "source": [
    "print (X_train)\n",
    "print (y_test)"
   ]
  },
  {
   "cell_type": "markdown",
   "id": "8861c68f-a8d8-4fc7-b5e0-42ae8ce5c435",
   "metadata": {},
   "source": [
    "# APPLYING FEATURE SCALING USING fit_transform() METHOD OF SCALAR OBJECT sc"
   ]
  },
  {
   "cell_type": "code",
   "execution_count": 26,
   "id": "ca4aab3d-15d4-4e11-89c1-0e59a87628a4",
   "metadata": {},
   "outputs": [],
   "source": [
    "#X_train = sc.fit_transform(X_train)\n",
    "#X_test = sc.transform(X_test)"
   ]
  },
  {
   "cell_type": "markdown",
   "id": "b6b6fb50",
   "metadata": {},
   "source": [
    "# VECTORIZATION"
   ]
  },
  {
   "cell_type": "code",
   "execution_count": 27,
   "id": "ecb8994a",
   "metadata": {},
   "outputs": [],
   "source": [
    "from sklearn.feature_extraction.text import CountVectorizer"
   ]
  },
  {
   "cell_type": "code",
   "execution_count": 28,
   "id": "85ca1fe9",
   "metadata": {},
   "outputs": [],
   "source": [
    "# vectorize tweets for model building\n",
    "vectorizer = CountVectorizer(binary=True, stop_words='english')\n",
    "\n",
    "# learn a vocabulary dictionary of all tokens in the raw documents\n",
    "vectorizer.fit(list(X_train) + list(X_test))\n",
    "\n",
    "# transform documents to document-term matrix\n",
    "x_train_vec = vectorizer.fit_transform(X_train)\n",
    "x_test_vec = vectorizer.transform(X_test)"
   ]
  },
  {
   "cell_type": "code",
   "execution_count": 29,
   "id": "32293370",
   "metadata": {},
   "outputs": [
    {
     "data": {
      "text/plain": [
       "(2146, 17769)"
      ]
     },
     "execution_count": 29,
     "metadata": {},
     "output_type": "execute_result"
    }
   ],
   "source": [
    "x_train_vec.shape\n",
    "x_test_vec.shape"
   ]
  },
  {
   "cell_type": "code",
   "execution_count": 30,
   "id": "72acd209",
   "metadata": {},
   "outputs": [
    {
     "name": "stdout",
     "output_type": "stream",
     "text": [
      "  (0, 13190)\t1\n",
      "  (0, 17273)\t1\n",
      "  (0, 17665)\t1\n",
      "  (0, 8283)\t1\n",
      "  (0, 8901)\t1\n",
      "  (0, 9816)\t1\n",
      "  (0, 17507)\t1\n",
      "  (0, 1751)\t1\n",
      "  (0, 7400)\t1\n",
      "  (0, 7684)\t1\n",
      "  (0, 5767)\t1\n",
      "  (0, 5609)\t1\n",
      "  (0, 15965)\t1\n",
      "  (0, 3857)\t1\n",
      "  (0, 6524)\t1\n",
      "  (0, 2855)\t1\n",
      "  (0, 15875)\t1\n",
      "  (0, 17436)\t1\n",
      "  (1, 5764)\t1\n",
      "  (1, 9054)\t1\n",
      "  (1, 7645)\t1\n",
      "  (1, 16354)\t1\n",
      "  (1, 15799)\t1\n",
      "  (1, 17602)\t1\n",
      "  (1, 11261)\t1\n",
      "  :\t:\n",
      "  (19310, 15046)\t1\n",
      "  (19310, 3855)\t1\n",
      "  (19310, 11726)\t1\n",
      "  (19310, 2922)\t1\n",
      "  (19310, 4867)\t1\n",
      "  (19310, 12989)\t1\n",
      "  (19310, 5667)\t1\n",
      "  (19310, 16604)\t1\n",
      "  (19311, 5767)\t1\n",
      "  (19311, 163)\t1\n",
      "  (19311, 4253)\t1\n",
      "  (19311, 6680)\t1\n",
      "  (19311, 12440)\t1\n",
      "  (19311, 14390)\t1\n",
      "  (19311, 14743)\t1\n",
      "  (19311, 3815)\t1\n",
      "  (19311, 14126)\t1\n",
      "  (19311, 2154)\t1\n",
      "  (19311, 9610)\t1\n",
      "  (19311, 894)\t1\n",
      "  (19312, 5764)\t1\n",
      "  (19312, 1464)\t1\n",
      "  (19312, 12619)\t1\n",
      "  (19312, 15825)\t1\n",
      "  (19312, 6350)\t1\n"
     ]
    }
   ],
   "source": [
    "print(x_train_vec)"
   ]
  },
  {
   "cell_type": "code",
   "execution_count": 31,
   "id": "610853fc-1d9e-46be-9c29-014b2bd7cb74",
   "metadata": {},
   "outputs": [
    {
     "name": "stdout",
     "output_type": "stream",
     "text": [
      "(19313,)\n",
      "(2146,)\n",
      "(19313,)\n",
      "(2146,)\n"
     ]
    }
   ],
   "source": [
    "print(X_train.shape)\n",
    "print(X_test.shape)\n",
    "print(y_train.shape)\n",
    "print(y_test.shape)"
   ]
  },
  {
   "cell_type": "markdown",
   "id": "3778c1f8-0b43-4dec-b7f5-96baf8d859a6",
   "metadata": {},
   "source": [
    "# TRAINING AND PREDICTION"
   ]
  },
  {
   "cell_type": "code",
   "execution_count": 32,
   "id": "c23b4bce-3e36-4008-9819-b5e0b3acdab0",
   "metadata": {},
   "outputs": [
    {
     "data": {
      "text/html": [
       "<style>#sk-container-id-1 {color: black;}#sk-container-id-1 pre{padding: 0;}#sk-container-id-1 div.sk-toggleable {background-color: white;}#sk-container-id-1 label.sk-toggleable__label {cursor: pointer;display: block;width: 100%;margin-bottom: 0;padding: 0.3em;box-sizing: border-box;text-align: center;}#sk-container-id-1 label.sk-toggleable__label-arrow:before {content: \"▸\";float: left;margin-right: 0.25em;color: #696969;}#sk-container-id-1 label.sk-toggleable__label-arrow:hover:before {color: black;}#sk-container-id-1 div.sk-estimator:hover label.sk-toggleable__label-arrow:before {color: black;}#sk-container-id-1 div.sk-toggleable__content {max-height: 0;max-width: 0;overflow: hidden;text-align: left;background-color: #f0f8ff;}#sk-container-id-1 div.sk-toggleable__content pre {margin: 0.2em;color: black;border-radius: 0.25em;background-color: #f0f8ff;}#sk-container-id-1 input.sk-toggleable__control:checked~div.sk-toggleable__content {max-height: 200px;max-width: 100%;overflow: auto;}#sk-container-id-1 input.sk-toggleable__control:checked~label.sk-toggleable__label-arrow:before {content: \"▾\";}#sk-container-id-1 div.sk-estimator input.sk-toggleable__control:checked~label.sk-toggleable__label {background-color: #d4ebff;}#sk-container-id-1 div.sk-label input.sk-toggleable__control:checked~label.sk-toggleable__label {background-color: #d4ebff;}#sk-container-id-1 input.sk-hidden--visually {border: 0;clip: rect(1px 1px 1px 1px);clip: rect(1px, 1px, 1px, 1px);height: 1px;margin: -1px;overflow: hidden;padding: 0;position: absolute;width: 1px;}#sk-container-id-1 div.sk-estimator {font-family: monospace;background-color: #f0f8ff;border: 1px dotted black;border-radius: 0.25em;box-sizing: border-box;margin-bottom: 0.5em;}#sk-container-id-1 div.sk-estimator:hover {background-color: #d4ebff;}#sk-container-id-1 div.sk-parallel-item::after {content: \"\";width: 100%;border-bottom: 1px solid gray;flex-grow: 1;}#sk-container-id-1 div.sk-label:hover label.sk-toggleable__label {background-color: #d4ebff;}#sk-container-id-1 div.sk-serial::before {content: \"\";position: absolute;border-left: 1px solid gray;box-sizing: border-box;top: 0;bottom: 0;left: 50%;z-index: 0;}#sk-container-id-1 div.sk-serial {display: flex;flex-direction: column;align-items: center;background-color: white;padding-right: 0.2em;padding-left: 0.2em;position: relative;}#sk-container-id-1 div.sk-item {position: relative;z-index: 1;}#sk-container-id-1 div.sk-parallel {display: flex;align-items: stretch;justify-content: center;background-color: white;position: relative;}#sk-container-id-1 div.sk-item::before, #sk-container-id-1 div.sk-parallel-item::before {content: \"\";position: absolute;border-left: 1px solid gray;box-sizing: border-box;top: 0;bottom: 0;left: 50%;z-index: -1;}#sk-container-id-1 div.sk-parallel-item {display: flex;flex-direction: column;z-index: 1;position: relative;background-color: white;}#sk-container-id-1 div.sk-parallel-item:first-child::after {align-self: flex-end;width: 50%;}#sk-container-id-1 div.sk-parallel-item:last-child::after {align-self: flex-start;width: 50%;}#sk-container-id-1 div.sk-parallel-item:only-child::after {width: 0;}#sk-container-id-1 div.sk-dashed-wrapped {border: 1px dashed gray;margin: 0 0.4em 0.5em 0.4em;box-sizing: border-box;padding-bottom: 0.4em;background-color: white;}#sk-container-id-1 div.sk-label label {font-family: monospace;font-weight: bold;display: inline-block;line-height: 1.2em;}#sk-container-id-1 div.sk-label-container {text-align: center;}#sk-container-id-1 div.sk-container {/* jupyter's `normalize.less` sets `[hidden] { display: none; }` but bootstrap.min.css set `[hidden] { display: none !important; }` so we also need the `!important` here to be able to override the default hidden behavior on the sphinx rendered scikit-learn.org. See: https://github.com/scikit-learn/scikit-learn/issues/21755 */display: inline-block !important;position: relative;}#sk-container-id-1 div.sk-text-repr-fallback {display: none;}</style><div id=\"sk-container-id-1\" class=\"sk-top-container\"><div class=\"sk-text-repr-fallback\"><pre>SVC(C=2, gamma=&#x27;auto&#x27;, kernel=&#x27;linear&#x27;)</pre><b>In a Jupyter environment, please rerun this cell to show the HTML representation or trust the notebook. <br />On GitHub, the HTML representation is unable to render, please try loading this page with nbviewer.org.</b></div><div class=\"sk-container\" hidden><div class=\"sk-item\"><div class=\"sk-estimator sk-toggleable\"><input class=\"sk-toggleable__control sk-hidden--visually\" id=\"sk-estimator-id-1\" type=\"checkbox\" checked><label for=\"sk-estimator-id-1\" class=\"sk-toggleable__label sk-toggleable__label-arrow\">SVC</label><div class=\"sk-toggleable__content\"><pre>SVC(C=2, gamma=&#x27;auto&#x27;, kernel=&#x27;linear&#x27;)</pre></div></div></div></div></div>"
      ],
      "text/plain": [
       "SVC(C=2, gamma='auto', kernel='linear')"
      ]
     },
     "execution_count": 32,
     "metadata": {},
     "output_type": "execute_result"
    }
   ],
   "source": [
    "from sklearn import svm\n",
    "\n",
    "classifier = svm.SVC(kernel='linear', gamma='auto', C=2)\n",
    "classifier.fit(x_train_vec, y_train)\n",
    "\n"
   ]
  },
  {
   "cell_type": "code",
   "execution_count": 33,
   "id": "11dc8ea6-68af-4709-9fd1-d61a8e9ab024",
   "metadata": {},
   "outputs": [],
   "source": [
    "prediction = classifier.predict(x_test_vec)"
   ]
  },
  {
   "cell_type": "code",
   "execution_count": 34,
   "id": "fce3bf9e-1e2b-455f-8406-0be2c63ec480",
   "metadata": {
    "scrolled": true
   },
   "outputs": [
    {
     "name": "stdout",
     "output_type": "stream",
     "text": [
      "              precision    recall  f1-score   support\n",
      "\n",
      "           0       0.91      0.92      0.92       932\n",
      "           1       0.93      0.93      0.93       877\n",
      "           2       0.85      0.84      0.85       337\n",
      "\n",
      "    accuracy                           0.91      2146\n",
      "   macro avg       0.90      0.90      0.90      2146\n",
      "weighted avg       0.91      0.91      0.91      2146\n",
      "\n"
     ]
    }
   ],
   "source": [
    "from sklearn.metrics import classification_report\n",
    "\n",
    "print(classification_report(y_test, prediction))"
   ]
  },
  {
   "cell_type": "markdown",
   "id": "e801edc8-a646-4c0e-a3c9-190ba93638e9",
   "metadata": {},
   "source": [
    "# CROSS VALIDATION USING K FOLDS"
   ]
  },
  {
   "cell_type": "code",
   "execution_count": 35,
   "id": "a0db7ef8-3158-4d01-86f0-266138df9283",
   "metadata": {},
   "outputs": [
    {
     "name": "stdout",
     "output_type": "stream",
     "text": [
      "Cross-Validation Scores: [0.84418605 0.83449883 0.83916084 0.84615385 0.82517483]\n",
      "Mean Accuracy: 0.8378348782999947\n"
     ]
    }
   ],
   "source": [
    "import pandas as pd\n",
    "from sklearn.model_selection import train_test_split, cross_val_score\n",
    "from sklearn.feature_extraction.text import TfidfVectorizer\n",
    "from sklearn.svm import SVC\n",
    "from sklearn.metrics import accuracy_score\n",
    "\n",
    "\n",
    "# Perform cross-validation\n",
    "cv_scores = cross_val_score(classifier, x_test_vec, y_test, cv=5)  # Adjust the number of folds as needed\n",
    "\n",
    "# Print the cross-validation scores\n",
    "print(\"Cross-Validation Scores:\", cv_scores)\n",
    "print(\"Mean Accuracy:\", cv_scores.mean())\n"
   ]
  },
  {
   "cell_type": "code",
   "execution_count": 36,
   "id": "61958125-b78f-4044-9523-ae4de31fece9",
   "metadata": {},
   "outputs": [
    {
     "data": {
      "text/plain": [
       "['Count_vectorizer_2.joblib']"
      ]
     },
     "execution_count": 36,
     "metadata": {},
     "output_type": "execute_result"
    }
   ],
   "source": [
    "from joblib import dump, load\n",
    "\n",
    "# Save the model and count vectorizer\n",
    "dump(classifier, 'SVM_model_2.joblib')\n",
    "dump(vectorizer, 'Count_vectorizer_2.joblib')"
   ]
  },
  {
   "cell_type": "code",
   "execution_count": 37,
   "id": "5748b813-1bf5-467d-87e3-59d833457645",
   "metadata": {},
   "outputs": [],
   "source": [
    "svm_classifier = load('SVM_model_2.joblib')\n",
    "vectorizer = load('Count_vectorizer_2.joblib')"
   ]
  },
  {
   "cell_type": "markdown",
   "id": "668c1784-14fd-4cc6-bcaa-10c4aebc955a",
   "metadata": {},
   "source": [
    "# TESTING"
   ]
  },
  {
   "cell_type": "code",
   "execution_count": 38,
   "id": "17b0c04c-5312-45e5-8cb6-58e868071ba8",
   "metadata": {},
   "outputs": [],
   "source": [
    "test_set = pd.read_csv('test_sample.csv')"
   ]
  },
  {
   "cell_type": "code",
   "execution_count": 39,
   "id": "282954e5-e4b6-4aa5-9c16-7dafb71d52b7",
   "metadata": {},
   "outputs": [
    {
     "data": {
      "text/html": [
       "<div>\n",
       "<style scoped>\n",
       "    .dataframe tbody tr th:only-of-type {\n",
       "        vertical-align: middle;\n",
       "    }\n",
       "\n",
       "    .dataframe tbody tr th {\n",
       "        vertical-align: top;\n",
       "    }\n",
       "\n",
       "    .dataframe thead th {\n",
       "        text-align: right;\n",
       "    }\n",
       "</style>\n",
       "<table border=\"1\" class=\"dataframe\">\n",
       "  <thead>\n",
       "    <tr style=\"text-align: right;\">\n",
       "      <th></th>\n",
       "      <th>0</th>\n",
       "    </tr>\n",
       "  </thead>\n",
       "  <tbody>\n",
       "    <tr>\n",
       "      <th>0</th>\n",
       "      <td>i really dont wanna stay in my house tonight i...</td>\n",
       "    </tr>\n",
       "    <tr>\n",
       "      <th>1</th>\n",
       "      <td>im scared of snakes</td>\n",
       "    </tr>\n",
       "    <tr>\n",
       "      <th>2</th>\n",
       "      <td>i love you</td>\n",
       "    </tr>\n",
       "    <tr>\n",
       "      <th>3</th>\n",
       "      <td>dont ever do that again</td>\n",
       "    </tr>\n",
       "    <tr>\n",
       "      <th>4</th>\n",
       "      <td>the way to the temple is from that side</td>\n",
       "    </tr>\n",
       "  </tbody>\n",
       "</table>\n",
       "</div>"
      ],
      "text/plain": [
       "                                                   0\n",
       "0  i really dont wanna stay in my house tonight i...\n",
       "1                                im scared of snakes\n",
       "2                                         i love you\n",
       "3                            dont ever do that again\n",
       "4            the way to the temple is from that side"
      ]
     },
     "execution_count": 39,
     "metadata": {},
     "output_type": "execute_result"
    }
   ],
   "source": [
    "new_data = preprocessing(test_set[\"text\"])\n",
    "new_data = pd.DataFrame(new_data)\n",
    "\n",
    "new_data.head()"
   ]
  },
  {
   "cell_type": "code",
   "execution_count": 40,
   "id": "923ec0e4-0035-462d-a105-69cec36d2799",
   "metadata": {},
   "outputs": [
    {
     "data": {
      "text/html": [
       "<div>\n",
       "<style scoped>\n",
       "    .dataframe tbody tr th:only-of-type {\n",
       "        vertical-align: middle;\n",
       "    }\n",
       "\n",
       "    .dataframe tbody tr th {\n",
       "        vertical-align: top;\n",
       "    }\n",
       "\n",
       "    .dataframe thead th {\n",
       "        text-align: right;\n",
       "    }\n",
       "</style>\n",
       "<table border=\"1\" class=\"dataframe\">\n",
       "  <thead>\n",
       "    <tr style=\"text-align: right;\">\n",
       "      <th></th>\n",
       "      <th>Unnamed: 0</th>\n",
       "      <th>text</th>\n",
       "      <th>label</th>\n",
       "      <th>preprocessing</th>\n",
       "    </tr>\n",
       "  </thead>\n",
       "  <tbody>\n",
       "    <tr>\n",
       "      <th>0</th>\n",
       "      <td>0</td>\n",
       "      <td>I really don't wanna stay in my house tonight....</td>\n",
       "      <td>0</td>\n",
       "      <td>i really dont wanna stay in my house tonight i...</td>\n",
       "    </tr>\n",
       "    <tr>\n",
       "      <th>1</th>\n",
       "      <td>1</td>\n",
       "      <td>I'm scared of snakes</td>\n",
       "      <td>1</td>\n",
       "      <td>im scared of snakes</td>\n",
       "    </tr>\n",
       "    <tr>\n",
       "      <th>2</th>\n",
       "      <td>2</td>\n",
       "      <td>I love you</td>\n",
       "      <td>1</td>\n",
       "      <td>i love you</td>\n",
       "    </tr>\n",
       "    <tr>\n",
       "      <th>3</th>\n",
       "      <td>3</td>\n",
       "      <td>Don't ever do that again</td>\n",
       "      <td>0</td>\n",
       "      <td>dont ever do that again</td>\n",
       "    </tr>\n",
       "    <tr>\n",
       "      <th>4</th>\n",
       "      <td>4</td>\n",
       "      <td>The way to the temple is from that side</td>\n",
       "      <td>1</td>\n",
       "      <td>the way to the temple is from that side</td>\n",
       "    </tr>\n",
       "    <tr>\n",
       "      <th>5</th>\n",
       "      <td>5</td>\n",
       "      <td>I'm so disappointed with the customer service ...</td>\n",
       "      <td>0</td>\n",
       "      <td>im so disappointed with the customer service i...</td>\n",
       "    </tr>\n",
       "    <tr>\n",
       "      <th>6</th>\n",
       "      <td>6</td>\n",
       "      <td>Just finished my workout, feeling energized</td>\n",
       "      <td>1</td>\n",
       "      <td>just finished my workout feeling energized</td>\n",
       "    </tr>\n",
       "    <tr>\n",
       "      <th>7</th>\n",
       "      <td>7</td>\n",
       "      <td>Having a lazy day, enjoying some Netflix</td>\n",
       "      <td>1</td>\n",
       "      <td>having a lazy day enjoying some netflix</td>\n",
       "    </tr>\n",
       "    <tr>\n",
       "      <th>8</th>\n",
       "      <td>8</td>\n",
       "      <td>i feel my life is totally in ecstatic chaos</td>\n",
       "      <td>1</td>\n",
       "      <td>i feel my life is totally in ecstatic chaos</td>\n",
       "    </tr>\n",
       "    <tr>\n",
       "      <th>9</th>\n",
       "      <td>9</td>\n",
       "      <td>i feel i am being neglectful to a lot of you b...</td>\n",
       "      <td>0</td>\n",
       "      <td>i feel i am being neglectful to a lot of you b...</td>\n",
       "    </tr>\n",
       "  </tbody>\n",
       "</table>\n",
       "</div>"
      ],
      "text/plain": [
       "   Unnamed: 0                                               text  label  \\\n",
       "0           0  I really don't wanna stay in my house tonight....      0   \n",
       "1           1                               I'm scared of snakes      1   \n",
       "2           2                                         I love you      1   \n",
       "3           3                           Don't ever do that again      0   \n",
       "4           4            The way to the temple is from that side      1   \n",
       "5           5  I'm so disappointed with the customer service ...      0   \n",
       "6           6        Just finished my workout, feeling energized      1   \n",
       "7           7           Having a lazy day, enjoying some Netflix      1   \n",
       "8           8        i feel my life is totally in ecstatic chaos      1   \n",
       "9           9  i feel i am being neglectful to a lot of you b...      0   \n",
       "\n",
       "                                       preprocessing  \n",
       "0  i really dont wanna stay in my house tonight i...  \n",
       "1                                im scared of snakes  \n",
       "2                                         i love you  \n",
       "3                            dont ever do that again  \n",
       "4            the way to the temple is from that side  \n",
       "5  im so disappointed with the customer service i...  \n",
       "6         just finished my workout feeling energized  \n",
       "7            having a lazy day enjoying some netflix  \n",
       "8        i feel my life is totally in ecstatic chaos  \n",
       "9  i feel i am being neglectful to a lot of you b...  "
      ]
     },
     "execution_count": 40,
     "metadata": {},
     "output_type": "execute_result"
    }
   ],
   "source": [
    "test_set[\"preprocessing\"] = new_data\n",
    "\n",
    "#compare normal and preprocessed data\n",
    "test_set.head(10)"
   ]
  },
  {
   "cell_type": "code",
   "execution_count": null,
   "id": "38a738e6-da7e-4301-87ee-b210898204f8",
   "metadata": {},
   "outputs": [],
   "source": []
  },
  {
   "cell_type": "code",
   "execution_count": 41,
   "id": "b4bdcff7-8605-4c90-ab11-55dc608ac72c",
   "metadata": {},
   "outputs": [
    {
     "data": {
      "text/plain": [
       "array([0, 1, 1, ..., 1, 2, 2], dtype=int64)"
      ]
     },
     "execution_count": 41,
     "metadata": {},
     "output_type": "execute_result"
    }
   ],
   "source": [
    "example = test_set.preprocessing.values\n",
    "example\n",
    "ex_output = test_set.label.values\n",
    "ex_output"
   ]
  },
  {
   "cell_type": "code",
   "execution_count": 42,
   "id": "c9e26fed-651a-436e-98b3-9b4f32d59618",
   "metadata": {},
   "outputs": [],
   "source": [
    "example_vector = vectorizer.transform(example)\n"
   ]
  },
  {
   "cell_type": "code",
   "execution_count": 43,
   "id": "23413642-a9a4-4a41-aa04-6c7aecb1a73c",
   "metadata": {},
   "outputs": [],
   "source": [
    "output = classifier.predict(example_vector)"
   ]
  },
  {
   "cell_type": "code",
   "execution_count": 44,
   "id": "a138f6d5-a8ab-4331-851f-b22aa71c481a",
   "metadata": {},
   "outputs": [
    {
     "name": "stdout",
     "output_type": "stream",
     "text": [
      "[0 1 1 ... 1 2 2]\n",
      "[0 2 0 ... 1 2 2]\n"
     ]
    }
   ],
   "source": [
    "print(ex_output)\n",
    "print(output)"
   ]
  },
  {
   "cell_type": "code",
   "execution_count": 45,
   "id": "de218c70-31da-41fa-8dfb-d3e910978268",
   "metadata": {},
   "outputs": [
    {
     "name": "stdout",
     "output_type": "stream",
     "text": [
      "Accuracy: 0.9730134932533733\n"
     ]
    }
   ],
   "source": [
    "my_accuracy = accuracy_score(ex_output, output)\n",
    "print(f'Accuracy: {my_accuracy}')"
   ]
  },
  {
   "cell_type": "code",
   "execution_count": 46,
   "id": "4fec1270-79e6-4e73-afd9-11a0f78c6ac9",
   "metadata": {},
   "outputs": [],
   "source": [
    "testing = pd.read_csv('test.csv')"
   ]
  },
  {
   "cell_type": "code",
   "execution_count": 47,
   "id": "6801c1a0-cf52-499a-83eb-af4e93cbbdbe",
   "metadata": {},
   "outputs": [
    {
     "data": {
      "text/html": [
       "<div>\n",
       "<style scoped>\n",
       "    .dataframe tbody tr th:only-of-type {\n",
       "        vertical-align: middle;\n",
       "    }\n",
       "\n",
       "    .dataframe tbody tr th {\n",
       "        vertical-align: top;\n",
       "    }\n",
       "\n",
       "    .dataframe thead th {\n",
       "        text-align: right;\n",
       "    }\n",
       "</style>\n",
       "<table border=\"1\" class=\"dataframe\">\n",
       "  <thead>\n",
       "    <tr style=\"text-align: right;\">\n",
       "      <th></th>\n",
       "      <th>Unnamed: 0</th>\n",
       "      <th>text</th>\n",
       "      <th>label</th>\n",
       "    </tr>\n",
       "  </thead>\n",
       "  <tbody>\n",
       "    <tr>\n",
       "      <th>0</th>\n",
       "      <td>0</td>\n",
       "      <td>I really don't wanna stay in my house tonight....</td>\n",
       "      <td>0</td>\n",
       "    </tr>\n",
       "    <tr>\n",
       "      <th>1</th>\n",
       "      <td>1</td>\n",
       "      <td>I'm scared of snakes</td>\n",
       "      <td>1</td>\n",
       "    </tr>\n",
       "    <tr>\n",
       "      <th>2</th>\n",
       "      <td>2</td>\n",
       "      <td>I love you</td>\n",
       "      <td>1</td>\n",
       "    </tr>\n",
       "    <tr>\n",
       "      <th>3</th>\n",
       "      <td>3</td>\n",
       "      <td>Don't ever do that again</td>\n",
       "      <td>0</td>\n",
       "    </tr>\n",
       "    <tr>\n",
       "      <th>4</th>\n",
       "      <td>4</td>\n",
       "      <td>The way to the temple is from that side</td>\n",
       "      <td>1</td>\n",
       "    </tr>\n",
       "  </tbody>\n",
       "</table>\n",
       "</div>"
      ],
      "text/plain": [
       "   Unnamed: 0                                               text  label\n",
       "0           0  I really don't wanna stay in my house tonight....      0\n",
       "1           1                               I'm scared of snakes      1\n",
       "2           2                                         I love you      1\n",
       "3           3                           Don't ever do that again      0\n",
       "4           4            The way to the temple is from that side      1"
      ]
     },
     "execution_count": 47,
     "metadata": {},
     "output_type": "execute_result"
    }
   ],
   "source": [
    "testing.head()"
   ]
  },
  {
   "cell_type": "code",
   "execution_count": 48,
   "id": "31f2d375-eb94-4b05-bf19-4da722e9f1ac",
   "metadata": {},
   "outputs": [],
   "source": [
    "example_vector1 = vectorizer.transform(example)\n"
   ]
  },
  {
   "cell_type": "code",
   "execution_count": 49,
   "id": "eb895800-98c8-419b-a10d-e5135e1a30bf",
   "metadata": {},
   "outputs": [],
   "source": [
    "ans = svm_classifier.predict(example_vector1)"
   ]
  },
  {
   "cell_type": "code",
   "execution_count": 50,
   "id": "ae90c38b-de8e-4bca-8e67-ff3fa62c4f40",
   "metadata": {},
   "outputs": [
    {
     "name": "stdout",
     "output_type": "stream",
     "text": [
      "Accuracy: 0.9730134932533733\n"
     ]
    }
   ],
   "source": [
    "comparison = accuracy_score(ex_output, ans)\n",
    "print(f'Accuracy: {comparison}')"
   ]
  },
  {
   "cell_type": "code",
   "execution_count": null,
   "id": "542d2a5f-ad37-4b09-a61c-97df8842913c",
   "metadata": {},
   "outputs": [],
   "source": []
  }
 ],
 "metadata": {
  "kernelspec": {
   "display_name": "Python 3 (ipykernel)",
   "language": "python",
   "name": "python3"
  },
  "language_info": {
   "codemirror_mode": {
    "name": "ipython",
    "version": 3
   },
   "file_extension": ".py",
   "mimetype": "text/x-python",
   "name": "python",
   "nbconvert_exporter": "python",
   "pygments_lexer": "ipython3",
   "version": "3.11.5"
  }
 },
 "nbformat": 4,
 "nbformat_minor": 5
}
